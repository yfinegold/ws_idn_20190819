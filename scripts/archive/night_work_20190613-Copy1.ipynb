{
 "cells": [
  {
   "cell_type": "code",
   "execution_count": null,
   "metadata": {},
   "outputs": [],
   "source": [
    "# Welcome to the soil moisture mapping module"
   ]
  },
  {
   "cell_type": "code",
   "execution_count": null,
   "metadata": {},
   "outputs": [],
   "source": [
    "## Peatlands cover about 3% of the earth's land surface yet hold a huge amount of earth's terrestrial carbon"
   ]
  },
  {
   "cell_type": "code",
   "execution_count": null,
   "metadata": {},
   "outputs": [],
   "source": []
  },
  {
   "cell_type": "code",
   "execution_count": null,
   "metadata": {},
   "outputs": [],
   "source": [
    "# Import Python modules to run PYSMM"
   ]
  },
  {
   "cell_type": "code",
   "execution_count": 1,
   "metadata": {},
   "outputs": [],
   "source": [
    "import pysmm,os\n",
    "from pysmm.derive_SM import get_map\n",
    "import sys\n",
    "import ee\n",
    "import itertools\n",
    "\n",
    "ee.Initialize()\n",
    "path = os.path.dirname(pysmm.__file__)"
   ]
  },
  {
   "cell_type": "code",
   "execution_count": 2,
   "metadata": {},
   "outputs": [],
   "source": [
    "# Print variables to make sure paths are correct"
   ]
  },
  {
   "cell_type": "code",
   "execution_count": 3,
   "metadata": {},
   "outputs": [
    {
     "name": "stdout",
     "output_type": "stream",
     "text": [
      "You are finegold\n"
     ]
    }
   ],
   "source": [
    "#print path\n",
    "\n",
    "#print str(sys.argv)\n",
    "\n",
    "user = path.split(\"/\")[2]\n",
    "print \"You are \" +  user"
   ]
  },
  {
   "cell_type": "code",
   "execution_count": 4,
   "metadata": {},
   "outputs": [],
   "source": [
    "# Modify the Year, Month, and Day parameters as desired"
   ]
  },
  {
   "cell_type": "code",
   "execution_count": 5,
   "metadata": {},
   "outputs": [],
   "source": [
    "year = [2014,2015,2016,2017,2018,2019]\n",
    "month = [6,12]\n",
    "day = [1]"
   ]
  },
  {
   "cell_type": "code",
   "execution_count": 6,
   "metadata": {},
   "outputs": [],
   "source": [
    "# Run the PYSMM code for a specified Lat/Lon box - will iterate over all combinations of Year / Month / Day sequentially."
   ]
  },
  {
   "cell_type": "code",
   "execution_count": 19,
   "metadata": {},
   "outputs": [
    {
     "name": "stdout",
     "output_type": "stream",
     "text": [
      "ee.Element({\n",
      "  \"type\": \"Invocation\", \n",
      "  \"arguments\": {\n",
      "    \"collection\": {\n",
      "      \"type\": \"Invocation\", \n",
      "      \"arguments\": {\n",
      "        \"tableId\": \"users/yelenafinegold/id94_PHU_BOUNDARY\"\n",
      "      }, \n",
      "      \"functionName\": \"Collection.loadTable\"\n",
      "    }\n",
      "  }, \n",
      "  \"functionName\": \"Collection.first\"\n",
      "})\n",
      "ee.List({\n",
      "  \"type\": \"Invocation\", \n",
      "  \"arguments\": {\n",
      "    \"geometry\": {\n",
      "      \"type\": \"Invocation\", \n",
      "      \"arguments\": {\n",
      "        \"geometry\": {\n",
      "          \"type\": \"Invocation\", \n",
      "          \"arguments\": {\n",
      "            \"collection\": {\n",
      "              \"type\": \"Invocation\", \n",
      "              \"arguments\": {\n",
      "                \"tableId\": \"users/yelenafinegold/id94_PHU_BOUNDARY\"\n",
      "              }, \n",
      "              \"functionName\": \"Collection.loadTable\"\n",
      "            }\n",
      "          }, \n",
      "          \"functionName\": \"Collection.geometry\"\n",
      "        }\n",
      "      }, \n",
      "      \"functionName\": \"Geometry.bounds\"\n",
      "    }\n",
      "  }, \n",
      "  \"functionName\": \"Geometry.coordinates\"\n",
      "})\n",
      "[[102.40789759956573, 0.6852300434813994], [103.0566210083004, 0.6852300434813994], [103.0566210083004, 1.0222622658941773], [102.40789759956573, 1.0222622658941773], [102.40789759956573, 0.6852300434813994]]\n",
      "102.4078976 0.876583478843 102.408178532\n",
      "102.4078976 1.02226226589 103.056621008\n"
     ]
    }
   ],
   "source": [
    "studyArea = ee.FeatureCollection('users/yelenafinegold/id94_PHU_BOUNDARY')\n",
    "print(studyArea.first())\n",
    "attribute='OBJECTID'\n",
    "attribute_value=94\n",
    "# print(studyArea.limit(1));\n",
    "\n",
    "studyArea1 = studyArea.filterMetadata(attribute,'equals',attribute_value).geometry().coordinates()\n",
    "coords = studyArea1.get(0).getInfo()\n",
    "b = studyArea.geometry().bounds().coordinates()\n",
    "print b\n",
    "b2 = b.get(0).getInfo()\n",
    "print b2\n",
    "# print(coords)\n",
    "ll = coords[0]\n",
    "ur = coords[2]\n",
    "minlon = ll[0]\n",
    "minlat = ll[1]\n",
    "maxlon = ur[0]\n",
    "maxlat = ur[1]\n",
    "print minlon, maxlat, maxlon\n",
    "\n",
    "# print(coords)\n",
    "ll1 = b2[0]\n",
    "ur1 = b2[2]\n",
    "minlon1 = ll1[0]\n",
    "minlat1 = ll1[1]\n",
    "maxlon1 = ur1[0]\n",
    "maxlat1 = ur1[1]\n",
    "\n",
    "print minlon1, maxlat1,maxlon1"
   ]
  },
  {
   "cell_type": "code",
   "execution_count": null,
   "metadata": {},
   "outputs": [],
   "source": [
    "for a, b, c in itertools.product( year, month, day):\n",
    "\n",
    "\tprint a\n",
    "\tprint b\n",
    "\tprint c\n",
    "  \n",
    "\tget_map(minlon , minlat ,maxlon, maxlat,\n",
    "            ##### MODIFY THIS PATH TO BE YOUR SEPAL USERNAME\n",
    "        \t'/data/home/' + user + '/',\n",
    "        \tsampling=100,\n",
    "\t\tyear=a, month=b, day=c,\n",
    "       # year=int(sys.argv[1]), month=int(sys.argv[2]), day=int(sys.argv[3]),\n",
    "        \ttracknr=None,\n",
    "        \ttempfilter=True,\n",
    "        \tmask='Globcover',\n",
    "        \tmasksnow=False,\n",
    "        \toverwrite=True)\n"
   ]
  },
  {
   "cell_type": "code",
   "execution_count": null,
   "metadata": {},
   "outputs": [],
   "source": [
    "# Results will be found in your Google Drive"
   ]
  },
  {
   "cell_type": "code",
   "execution_count": null,
   "metadata": {},
   "outputs": [],
   "source": []
  }
 ],
 "metadata": {
  "kernelspec": {
   "display_name": "env",
   "language": "python",
   "name": "env"
  },
  "language_info": {
   "codemirror_mode": {
    "name": "ipython",
    "version": 2
   },
   "file_extension": ".py",
   "mimetype": "text/x-python",
   "name": "python",
   "nbconvert_exporter": "python",
   "pygments_lexer": "ipython2",
   "version": "2.7.15+"
  }
 },
 "nbformat": 4,
 "nbformat_minor": 4
}
