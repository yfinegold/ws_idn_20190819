{
 "cells": [
  {
   "cell_type": "markdown",
   "metadata": {},
   "source": [
    "## Working notebook for soil moisture map exploration\n",
    "### This notebook analyzes the soil moisture map data over time for one point in space"
   ]
  },
  {
   "cell_type": "code",
   "execution_count": null,
   "metadata": {
    "scrolled": false
   },
   "outputs": [],
   "source": [
    "# INSTALL LIBRARY TO RUN R AND PYTHON AND BASH IN THE SAME NOTEBOOK\n",
    "pip install rpy2 --user -q"
   ]
  },
  {
   "cell_type": "code",
   "execution_count": null,
   "metadata": {},
   "outputs": [],
   "source": [
    "## ENABLE USE OF R AND PYTHON IN THE SAME NOTEBOOK\n",
    "%load_ext rpy2.ipython\n"
   ]
  },
  {
   "cell_type": "code",
   "execution_count": null,
   "metadata": {
    "scrolled": true
   },
   "outputs": [],
   "source": [
    "# ## CREATE FOLDER TO STORE SMM DATABASE\n",
    "# !mkdir -p ~/ws_idn_20190819/data/smm_phu/all_smm\n",
    "# ## DOWNLOAD THE TIME SERIES OF SOIL MOISTURE MAPS\n",
    "\n",
    "\n",
    "# !wget -O ~/ws_idn_20190819/data/smm_phu/all_smm/all_phu_smm.tif https://www.dropbox.com/s/pe1fr05to5vuy0c/all_phu_smm.tif\n",
    "# !wget -O ~/ws_idn_20190819/data/smm_phu/all_smm/all_phu_smm.csv https://www.dropbox.com/s/hcbnvrjo6ys1ymi/all_phu_smm.csv\n",
    "        "
   ]
  },
  {
   "cell_type": "code",
   "execution_count": null,
   "metadata": {
    "scrolled": false
   },
   "outputs": [],
   "source": [
    "%%R\n",
    "## LOAD THE PARAMETERS\n",
    "source('~/ws_idn_20190819/scripts/s0_parameters.R')\n",
    "library(ggplot2)\n",
    "library(dplyr)\n",
    "library(hrbrthemes)\n",
    "library(leaflet)"
   ]
  },
  {
   "cell_type": "code",
   "execution_count": null,
   "metadata": {
    "scrolled": true
   },
   "outputs": [],
   "source": [
    "%%R\n",
    "smm_dir <- '~/ws_idn_20190819/data/smm_phu/all_smm/'\n",
    "all.smm.ras <-  brick(paste0(smm_dir,'all_phu_smm.tif'))\n",
    "all.smm.dat <-  read.csv(paste0(smm_dir,'all_phu_smm.csv'))\n",
    "# plot(all.smm.ras[[99]])\n",
    "head(all.smm.dat[,1:3])"
   ]
  },
  {
   "cell_type": "code",
   "execution_count": null,
   "metadata": {},
   "outputs": [],
   "source": [
    "%%R\n",
    "### SET UP PARAMETERS FOR ANALYSIS\n",
    "\n",
    "## COORDINATES TO ASSESS SOIL MOISTURE TIME SERIES\n",
    "crd <- cbind(114.06038,-3.22315)\n",
    "\n",
    "## DEFINE SEASONS - NOTE IT USES THE FIRST OF EACH MONTH \n",
    "dry.months <- c(6,7,8,9)\n",
    "rainy.months <- c(1,2,3,4,5,10,11,12)"
   ]
  },
  {
   "cell_type": "code",
   "execution_count": null,
   "metadata": {},
   "outputs": [],
   "source": [
    "%%R\n",
    "ts.date <- unlist(all.smm.dat[,2])\n",
    "x <- raster::extract(all.smm.ras,crd)\n",
    "y <- rbind(x,ts.date)\n",
    "z <- t(y)\n",
    "colnames(z) <- c('ts','date')\n",
    "z <- as.data.frame(z[z[,1]>0,])\n",
    "z$date <- as.Date(z$date)\n",
    "z$ts <- as.numeric(z$ts)\n",
    "### explore the data\n",
    "# plot a histogram of the soil moisture values for one point over time\n",
    "soil.moisture <- unname(x[1,])\n",
    "soil.moisture <- soil.moisture[soil.moisture>0]\n",
    "hist(soil.moisture)\n",
    "print(paste0('Summary statistics of the soil moisture time series for ', paste0(crd,collapse=' , ')))\n",
    "print(summary(soil.moisture))\n",
    "print(paste0('Standard deviation: ',round(sd(soil.moisture,  na.rm = FALSE),digits = 2)))\n",
    "\n"
   ]
  },
  {
   "cell_type": "code",
   "execution_count": null,
   "metadata": {},
   "outputs": [],
   "source": [
    "%%R\n",
    "g <- ggplot(z, aes(date, ts)) + \n",
    "  geom_line() +\n",
    " geom_point() +\n",
    "#   theme_ipsum() +\n",
    "  geom_smooth(method = \"lm\") +\n",
    "  scale_x_date(date_labels = \"%Y\") + \n",
    "  xlab(\"Date\") + \n",
    "  ylab(\"Soil moisture value- Sentinel 1\") \n",
    "# g + geom_text(aes(label = eq), data = dftext, parse = TRUE)\n",
    "print(g)\n",
    "\n",
    "m <- lm(ts ~ date, z)\n",
    "print(paste0('Model: y = ',  format(unname(coef(m)[1]), digits = 2), \" + \",format(unname(coef(m)[2]), digits = 2),' * x' ))\n",
    "print(paste0('slope value: ',format(unname(coef(m)[2]), digits = 2)))\n",
    "r2 <- format(summary(m)$r.squared, digits = 3)\n",
    "print(paste0(\"rsquared: \" ,r2))\n",
    "z.mean <- format(mean(z$ts), digits = 3)\n",
    "print(paste0('Mean: ', z.mean))\n",
    "z.sd <- format(sd(z$ts), digits = 3)\n",
    "print(paste0('Standard deviation: ', z.sd))\n",
    "z.p <- format(summary(m)$coefficients[8], digits = 3)\n",
    "print(paste0('P value: ', z.p))"
   ]
  },
  {
   "cell_type": "code",
   "execution_count": null,
   "metadata": {},
   "outputs": [],
   "source": [
    "%%R\n",
    "minyear <- format(as.Date(min(z$date), format=\"%d/%m/%Y\"),\"%Y\")\n",
    "maxyear <- format(as.Date(max(z$date), format=\"%d/%m/%Y\"),\"%Y\")\n",
    "print(minyear)\n",
    "print(maxyear)\n",
    "print(as.Date(min(z$date)))\n",
    "# min(z$date)\n",
    "# dry.months\n",
    "# rep(dry.months,length(minyear:maxyear))\n",
    "dry.sub <- as.Date((paste(minyear:maxyear,rep(c(dry.months[1],dry.months[length(dry.months)]),length(minyear:maxyear)),'01',sep='-')))\n",
    "# str(dry.sub)\n",
    "dry.sub <- dry.sub[order(dry.sub)]\n",
    "str(dry.sub[1:2])\n",
    "\n",
    "dry.sub.ts <- ts[!ts$date>=dry.sub[1] & ts$date<=dry.sub[2],]\n",
    "print(dry.sub.ts)\n",
    "# dry.sub.ts <- ts[!ts$date ,]\n",
    "# print(dry.months[1])\n",
    "# as.Date((paste(minyear:maxyear,rep(dry.months,length(minyear:maxyear)),'01',sep='-')))\n",
    "# d <- paste(minyear:maxyear,dry.months,'01',sep='-')\n",
    "# m <- gsub('^\\\\b0?([^-]+-)0?', '\\\\1', d, perl=TRUE)\n",
    "# print(m)\n",
    "# as.Date((paste(minyear:maxyear,dry.months,'01',sep='-')), format=\"%d/%m/%Y\")"
   ]
  },
  {
   "cell_type": "code",
   "execution_count": null,
   "metadata": {
    "scrolled": true
   },
   "outputs": [],
   "source": [
    "%%R\n",
    "## subset dry and wet season\n",
    "## this needs to made more flexible to take any number of months of dry/wet\n",
    "dry.sub.ts <- z[z$date>=dry.sub[1] & z$date<=dry.sub[2]\n",
    "   |\n",
    "   z$date>=dry.sub[3] & z$date<=dry.sub[4]\n",
    "   |\n",
    "   z$date>=dry.sub[5] & z$date<=dry.sub[6]\n",
    "   |\n",
    "   z$date>=dry.sub[7] & z$date<=dry.sub[8]\n",
    "   |\n",
    "   z$date>=dry.sub[9] & z$date<=dry.sub[10]\n",
    "#    |\n",
    "#    z$date>=dry.sub[11] & z$date<=dry.sub[12]\n",
    "  ,]  \n",
    "wet.sub.ts <- z[!z$date %in%dry.sub.ts$date,]\n"
   ]
  },
  {
   "cell_type": "code",
   "execution_count": null,
   "metadata": {
    "scrolled": true
   },
   "outputs": [],
   "source": [
    "%%R\n",
    "## PLOT DRY SEASON \n",
    "g <- ggplot(dry.sub.ts, aes(date, ts)) + \n",
    "  geom_line() +\n",
    " geom_point() +\n",
    "  geom_smooth(method = \"lm\") +\n",
    "  scale_x_date(date_labels = \"%Y\") + \n",
    "  xlab(\"Date\") + \n",
    "  ylab(\"Dry season soil moisture value- Sentinel 1\") \n",
    "print(g)\n",
    "\n",
    "m <- lm(ts ~ date, dry.sub.ts)\n",
    "print(paste0('Model: y = ',  format(unname(coef(m)[1]), digits = 2), \" + \",format(unname(coef(m)[2]), digits = 2),' * x' ))\n",
    "print(paste0('slope value: ',format(unname(coef(m)[2]), digits = 2)))\n",
    "r2 <- format(summary(m)$r.squared, digits = 3)\n",
    "print(paste0(\"rsquared: \" ,r2))\n",
    "z.mean <- format(mean(dry.sub.ts$ts), digits = 3)\n",
    "print(paste0('Mean: ', z.mean))\n",
    "z.sd <- format(sd(dry.sub.ts$ts), digits = 3)\n",
    "print(paste0('Standard deviation: ', z.sd))\n",
    "z.p <- format(summary(m)$coefficients[8], digits = 3)\n",
    "print(paste0('P value: ', z.p))"
   ]
  },
  {
   "cell_type": "code",
   "execution_count": null,
   "metadata": {},
   "outputs": [],
   "source": [
    "%%R\n",
    "## PLOT DRY SEASON \n",
    "g <- ggplot(wet.sub.ts, aes(date, ts)) + \n",
    "  geom_line() +\n",
    " geom_point() +\n",
    "  geom_smooth(method = \"lm\") +\n",
    "  scale_x_date(date_labels = \"%Y\") + \n",
    "  xlab(\"Date\") + \n",
    "  ylab(\"Wet season soil moisture value- Sentinel 1\") \n",
    "print(g)\n",
    "\n",
    "m <- lm(ts ~ date, wet.sub.ts)\n",
    "print(paste0('Model: y = ',  format(unname(coef(m)[1]), digits = 2), \" + \",format(unname(coef(m)[2]), digits = 2),' * x' ))\n",
    "print(paste0('slope value: ',format(unname(coef(m)[2]), digits = 2)))\n",
    "r2 <- format(summary(m)$r.squared, digits = 3)\n",
    "print(paste0(\"rsquared: \" ,r2))\n",
    "z.mean <- format(mean(wet.sub.ts$ts), digits = 3)\n",
    "print(paste0('Mean: ', z.mean))\n",
    "z.sd <- format(sd(wet.sub.ts$ts), digits = 3)\n",
    "print(paste0('Standard deviation: ', z.sd))\n",
    "z.p <- format(summary(m)$coefficients[8], digits = 3)\n",
    "print(paste0('P value: ', z.p))"
   ]
  },
  {
   "cell_type": "code",
   "execution_count": null,
   "metadata": {},
   "outputs": [],
   "source": []
  }
 ],
 "metadata": {
  "kernelspec": {
   "display_name": "Python 3",
   "language": "python",
   "name": "python3"
  },
  "language_info": {
   "codemirror_mode": {
    "name": "ipython",
    "version": 3
   },
   "file_extension": ".py",
   "mimetype": "text/x-python",
   "name": "python",
   "nbconvert_exporter": "python",
   "pygments_lexer": "ipython3",
   "version": "3.6.8"
  }
 },
 "nbformat": 4,
 "nbformat_minor": 2
}
