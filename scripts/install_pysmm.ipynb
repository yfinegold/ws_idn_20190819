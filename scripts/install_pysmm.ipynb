{
 "cells": [
  {
   "cell_type": "markdown",
   "metadata": {},
   "source": [
    "# Install PYSMM\n",
    "### PYSMM is the module to process and download soil moisture map from Sentinel 1 satellite imagery\n",
    "For more information on PYSMM visit: [Learn about PYSMM here](https://pysmm.readthedocs.io/en/latest/ \"PYSMM homepage\")\n",
    "\n",
    "To view all workshop materials, visit: [The workshop GitHub page](github.com/yfinegold/uga_activity_data \"workshop github\")"
   ]
  },
  {
   "cell_type": "code",
   "execution_count": 1,
   "metadata": {},
   "outputs": [
    {
     "data": {
      "text/html": [
       "<script>\n",
       "code_show=true; \n",
       "function code_toggle() {\n",
       " if (code_show){\n",
       " $('div.input').hide();\n",
       " } else {\n",
       " $('div.input').show();\n",
       " }\n",
       " code_show = !code_show\n",
       "} \n",
       "$( document ).ready(code_toggle);\n",
       "</script>\n",
       "<form action=\"javascript:code_toggle()\"><input type=\"submit\" value=\"Click here to toggle on/off the raw code.\"></form>"
      ],
      "text/plain": [
       "<IPython.core.display.HTML object>"
      ]
     },
     "execution_count": 1,
     "metadata": {},
     "output_type": "execute_result"
    }
   ],
   "source": [
    "import subprocess\n",
    "import os\n",
    "from os.path import expanduser, exists\n",
    "import ipywidgets as widgets\n",
    "from IPython.display import display, HTML, clear_output, Image\n",
    "from ipywidgets import HBox, Label\n",
    "\n",
    "home = expanduser(\"~\")\n",
    "#set user libraries\n",
    "\n",
    "HTML('''<script>\n",
    "code_show=true; \n",
    "function code_toggle() {\n",
    " if (code_show){\n",
    " $('div.input').hide();\n",
    " } else {\n",
    " $('div.input').show();\n",
    " }\n",
    " code_show = !code_show\n",
    "} \n",
    "$( document ).ready(code_toggle);\n",
    "</script>\n",
    "<form action=\"javascript:code_toggle()\"><input type=\"submit\" value=\"Click here to toggle on/off the raw code.\"></form>''')\n"
   ]
  },
  {
   "cell_type": "code",
   "execution_count": 2,
   "metadata": {},
   "outputs": [
    {
     "data": {
      "application/vnd.jupyter.widget-view+json": {
       "model_id": "e3d8d7568ec04771a0155d0a050f20ce",
       "version_major": 2,
       "version_minor": 0
      },
      "text/plain": [
       "VBox(children=(Button(description='Download materials', style=ButtonStyle()), Output()))"
      ]
     },
     "metadata": {},
     "output_type": "display_data"
    }
   ],
   "source": [
    "\n",
    "button = widgets.Button(description='Download materials')\n",
    "# button, output, function and linkage\n",
    "outt = widgets.Output()\n",
    "\n",
    "def on_button_clicked(b):\n",
    "    with outt:\n",
    "        clear_output()\n",
    "        print('Checking to see if pysmm is install in your system')\n",
    "        # install if needed\n",
    "        smm_path = home + '/smm/'\n",
    "        git_path = home + '/ws_idn_20190819/'\n",
    "        if os.path.exists(git_path):\n",
    "            print(\"workshop materials are already installed\")\n",
    "        else:\n",
    "                print('installing workshop scripts, data, documents from Github')\n",
    "                !bash git clone https://github.com/yfinegold/...\n",
    "        #         subprocess.call(install_path, shell=True)\n",
    "        print(\"done\")\n",
    "    \n",
    "button.on_click(on_button_clicked)\n",
    "# display\n",
    "widgets.VBox([button,outt])\n",
    "\n"
   ]
  },
  {
   "cell_type": "code",
   "execution_count": 3,
   "metadata": {},
   "outputs": [
    {
     "data": {
      "application/vnd.jupyter.widget-view+json": {
       "model_id": "634f2d33d09848fda4c1d1366e518852",
       "version_major": 2,
       "version_minor": 0
      },
      "text/plain": [
       "VBox(children=(Button(description='Install PYSMM', style=ButtonStyle()), Output()))"
      ]
     },
     "metadata": {},
     "output_type": "display_data"
    }
   ],
   "source": [
    "\n",
    "button = widgets.Button(description='Install PYSMM')\n",
    "# button, output, function and linkage\n",
    "outt = widgets.Output()\n",
    "\n",
    "def on_button_clicked(b):\n",
    "    with outt:\n",
    "        clear_output()\n",
    "        print('Checking to see if pysmm is install in your system')\n",
    "        # install if needed\n",
    "        smm_path = home + '/smm/'\n",
    "        install_path = home + '/ws_idn_20190819/scripts/download_pysmm.sh'\n",
    "        if os.path.exists(smm_path):\n",
    "            print(\"pysmm is installed\")\n",
    "        else:\n",
    "                print('installing pysmm')\n",
    "                !bash ~/ws_idn_20190819/scripts/download_pysmm.sh\n",
    "        #         subprocess.call(install_path, shell=True)\n",
    "        print(\"done\")\n",
    "    \n",
    "button.on_click(on_button_clicked)\n",
    "# display\n",
    "widgets.VBox([button,outt])\n",
    "\n"
   ]
  },
  {
   "cell_type": "code",
   "execution_count": null,
   "metadata": {},
   "outputs": [],
   "source": []
  }
 ],
 "metadata": {
  "kernelspec": {
   "display_name": "Python 3",
   "language": "python",
   "name": "python3"
  },
  "language_info": {
   "codemirror_mode": {
    "name": "ipython",
    "version": 3
   },
   "file_extension": ".py",
   "mimetype": "text/x-python",
   "name": "python",
   "nbconvert_exporter": "python",
   "pygments_lexer": "ipython3",
   "version": "3.6.8"
  }
 },
 "nbformat": 4,
 "nbformat_minor": 2
}
