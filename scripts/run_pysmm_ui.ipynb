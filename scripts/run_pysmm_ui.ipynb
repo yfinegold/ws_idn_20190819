{
 "cells": [
  {
   "cell_type": "markdown",
   "metadata": {},
   "source": [
    "# Soil moisture mapping module"
   ]
  },
  {
   "cell_type": "code",
   "execution_count": 1,
   "metadata": {},
   "outputs": [
    {
     "data": {
      "text/html": [
       "<script>\n",
       "code_show=true; \n",
       "function code_toggle() {\n",
       " if (code_show){\n",
       " $('div.input').hide();\n",
       " } else {\n",
       " $('div.input').show();\n",
       " }\n",
       " code_show = !code_show\n",
       "} \n",
       "$( document ).ready(code_toggle);\n",
       "</script>\n",
       "<form action=\"javascript:code_toggle()\"><input type=\"submit\" value=\"Click here to toggle on/off the raw code.\"></form>"
      ],
      "text/plain": [
       "<IPython.core.display.HTML object>"
      ]
     },
     "execution_count": 1,
     "metadata": {},
     "output_type": "execute_result"
    }
   ],
   "source": [
    "#set user libraries\n",
    "import ipywidgets as widgets\n",
    "from IPython.display import display, HTML, clear_output, Image\n",
    "from ipywidgets import HBox, Label\n",
    "import subprocess\n",
    "# import ipyleaflet\n",
    "\n",
    "import pysmm,os\n",
    "from pysmm.derive_SM import get_map\n",
    "import sys\n",
    "import ee\n",
    "import itertools\n",
    "from IPython.core.display import HTML \n",
    "\n",
    "\n",
    "ee.Initialize()\n",
    "path = os.path.dirname(pysmm.__file__)\n",
    "\n",
    "HTML('''<script>\n",
    "code_show=true; \n",
    "function code_toggle() {\n",
    " if (code_show){\n",
    " $('div.input').hide();\n",
    " } else {\n",
    " $('div.input').show();\n",
    " }\n",
    " code_show = !code_show\n",
    "} \n",
    "$( document ).ready(code_toggle);\n",
    "</script>\n",
    "<form action=\"javascript:code_toggle()\"><input type=\"submit\" value=\"Click here to toggle on/off the raw code.\"></form>''')\n"
   ]
  },
  {
   "cell_type": "markdown",
   "metadata": {},
   "source": [
    "# Introduction"
   ]
  },
  {
   "cell_type": "code",
   "execution_count": 2,
   "metadata": {},
   "outputs": [
    {
     "name": "stdout",
     "output_type": "stream",
     "text": [
      "Welcome finegold! Run this application to create soil moisture maps from Sentinel 1 imagery.\n"
     ]
    }
   ],
   "source": [
    "user = path.split(\"/\")[2]\n",
    "print \"Welcome \" +  user + \"!\" + \" Run this application to create soil moisture maps from Sentinel 1 imagery.\""
   ]
  },
  {
   "cell_type": "markdown",
   "metadata": {},
   "source": [
    "# Set user variables"
   ]
  },
  {
   "cell_type": "markdown",
   "metadata": {},
   "source": [
    "## Define the area of interest\n",
    "### Provide the link to a Google Earth Engine asset and define the column name and value to select"
   ]
  },
  {
   "cell_type": "code",
   "execution_count": 3,
   "metadata": {
    "scrolled": false
   },
   "outputs": [
    {
     "data": {
      "application/vnd.jupyter.widget-view+json": {
       "model_id": "ae15994b9c374ba4afd64565367b83b4",
       "version_major": 2,
       "version_minor": 0
      },
      "text/plain": [
       "SEJveChjaGlsZHJlbj0oTGFiZWwodmFsdWU9dSdHb29nbGUgRWFydGggRW5naW5lIGFzc2V0IElEOiAnKSwgVGV4dCh2YWx1ZT11J3VzZXJzL3llbGVuYWZpbmVnb2xkLzEwN19waHVfbWVyZ2XigKY=\n"
      ]
     },
     "metadata": {},
     "output_type": "display_data"
    }
   ],
   "source": [
    "aoi =  widgets.Text(\n",
    "    value='users/yelenafinegold/107_phu_merged',\n",
    "    placeholder='Enter your asset ID here',\n",
    "#    description='Google Earth Engine asset ID:',\n",
    "    disabled=False\n",
    "#    , continuous_update=True\n",
    ")\n",
    "ui1 = HBox([Label('Google Earth Engine asset ID: '),aoi])\n",
    "display(ui1)"
   ]
  },
  {
   "cell_type": "code",
   "execution_count": 4,
   "metadata": {
    "scrolled": true
   },
   "outputs": [
    {
     "data": {
      "application/vnd.jupyter.widget-view+json": {
       "model_id": "3b2ef1ad89874e9888b08da63858ed95",
       "version_major": 2,
       "version_minor": 0
      },
      "text/plain": [
       "SEJveChjaGlsZHJlbj0oTGFiZWwodmFsdWU9dSdDb2x1bW4gbmFtZTogJyksIFNlbGVjdChvcHRpb25zPSh1J3N5c3RlbTppbmRleCcsIHUnaWQnKSwgdmFsdWU9dSdzeXN0ZW06aW5kZXgnKSnigKY=\n"
      ]
     },
     "metadata": {},
     "output_type": "display_data"
    }
   ],
   "source": [
    "studyArea = ee.FeatureCollection(aoi.value)\n",
    "col = ee.Feature(studyArea.first()).propertyNames().getInfo()\n",
    "column_name =  widgets.Select(\n",
    "    options=col,\n",
    "#     value='id',\n",
    "    placeholder='column name from the GEE asset',\n",
    "#    description='Column name:',\n",
    "    disabled=False\n",
    "#     , continuous_update=True\n",
    ")\n",
    "ui2 = HBox([Label('Column name: '),column_name])\n",
    "display(ui2)"
   ]
  },
  {
   "cell_type": "code",
   "execution_count": 8,
   "metadata": {
    "scrolled": false
   },
   "outputs": [
    {
     "data": {
      "application/vnd.jupyter.widget-view+json": {
       "model_id": "e3050f6d492f49b79f8bc2e463dfd003",
       "version_major": 2,
       "version_minor": 0
      },
      "text/plain": [
       "SEJveChjaGlsZHJlbj0oTGFiZWwodmFsdWU9dSdDb2x1bW4gdmFsdWU6ICcpLCBTZWxlY3Qob3B0aW9ucz0oMTExNCwgMTExNSwgMTExNiwgMTExNywgMTExOCwgMTExOSwgMTEyMCwgMTExMSzigKY=\n"
      ]
     },
     "metadata": {},
     "output_type": "display_data"
    }
   ],
   "source": [
    "colval = studyArea.distinct(column_name.value).aggregate_array(column_name.value).getInfo()\n",
    "# print(colval)\n",
    "column_value = widgets.Select(\n",
    "    options=colval,\n",
    "#     value=str(colval),\n",
    "    placeholder='column value from the GEE asset',\n",
    "#    description='Column value:',\n",
    "    disabled=False\n",
    "#     , continuous_update=True\n",
    ")\n",
    "ui3 = HBox([Label('Column value: '),column_value])\n",
    "display(ui3)"
   ]
  },
  {
   "cell_type": "code",
   "execution_count": 6,
   "metadata": {
    "scrolled": true
   },
   "outputs": [
    {
     "data": {
      "application/vnd.jupyter.widget-view+json": {
       "model_id": "a08c5cd4c0784f839d4dd9fad56bb9fc",
       "version_major": 2,
       "version_minor": 0
      },
      "text/plain": [
       "U2VsZWN0TXVsdGlwbGUoZGVzY3JpcHRpb249dSdZZWFyJywgaW5kZXg9KDEsIDIsIDMsIDQsIDUpLCBvcHRpb25zPSgyMDE0LCAyMDE1LCAyMDE2LCAyMDE3LCAyMDE4LCAyMDE5KSwgdmFsdWXigKY=\n"
      ]
     },
     "metadata": {},
     "output_type": "display_data"
    },
    {
     "data": {
      "application/vnd.jupyter.widget-view+json": {
       "model_id": "36383374e6a94fad8b1408c9bd79ea36",
       "version_major": 2,
       "version_minor": 0
      },
      "text/plain": [
       "U2VsZWN0TXVsdGlwbGUoZGVzY3JpcHRpb249dSdNb250aCcsIGluZGV4PSgzLCA5KSwgb3B0aW9ucz0oKCdKYW51YXJ5JywgMSksICgnRmVicnVhcnknLCAyKSwgKCdNYXJjaCcsIDMpLCAoJ0HigKY=\n"
      ]
     },
     "metadata": {},
     "output_type": "display_data"
    },
    {
     "data": {
      "application/vnd.jupyter.widget-view+json": {
       "model_id": "6307179b40cc4220888e58b55aee02f9",
       "version_major": 2,
       "version_minor": 0
      },
      "text/plain": [
       "U2VsZWN0TXVsdGlwbGUoZGVzY3JpcHRpb249dSdEYXknLCBpbmRleD0oMCwpLCBvcHRpb25zPSgxLCAyLCAzLCA0LCA1LCA2LCA3LCA4LCA5LCAxMCwgMTEsIDEyLCAxMywgMTQsIDE1LCAxNizigKY=\n"
      ]
     },
     "metadata": {},
     "output_type": "display_data"
    }
   ],
   "source": [
    "# Modify the Year, Month, and Day parameters as desired\n",
    "year = widgets.SelectMultiple(\n",
    "    options=[2014,2015,2016,2017,2018,2019],\n",
    "    value=[2015,2016,2017,2018,2019],\n",
    "    #rows=10,\n",
    "    description='Year',\n",
    "    disabled=False\n",
    ")\n",
    "\n",
    "display(year)\n",
    "\n",
    "month = widgets.SelectMultiple(\n",
    "    options=[('January',1),('February',2),('March',3),('April',4),('May',5),('June',6),('July',7),('August',8),('September',9),('October',10),('November',11),('December',12)],\n",
    "    value=[4,10],\n",
    "    description='Month',\n",
    "    disabled=False\n",
    ")\n",
    "\n",
    "display(month)\n",
    "\n",
    "day = widgets.SelectMultiple(\n",
    "    options=range(1,32),\n",
    "    value=[1],\n",
    "    description='Day',\n",
    "    disabled=False\n",
    ")\n",
    "\n",
    "display(day)\n",
    "\n"
   ]
  },
  {
   "cell_type": "markdown",
   "metadata": {},
   "source": [
    "# Run the PYSMM code for a specified AOI - will iterate over all combinations of Year / Month / Day sequentially."
   ]
  },
  {
   "cell_type": "code",
   "execution_count": 9,
   "metadata": {
    "scrolled": true
   },
   "outputs": [
    {
     "name": "stdout",
     "output_type": "stream",
     "text": [
      "Asset: users/yelenafinegold/107_phu_merged\n",
      "Column: id\n",
      "Column value: 1120\n",
      "Years: (2019,)\n",
      "Months: (10,)\n",
      "Days: (1, 15)\n"
     ]
    },
    {
     "data": {
      "application/vnd.jupyter.widget-view+json": {
       "model_id": "9e214e58bfd34cd9accc6a6ed8f23865",
       "version_major": 2,
       "version_minor": 0
      },
      "text/plain": [
       "VBox(children=(Button(description=u'Run SMM', style=ButtonStyle()), Output()))"
      ]
     },
     "metadata": {},
     "output_type": "display_data"
    }
   ],
   "source": [
    "studyArea0 = ee.FeatureCollection(aoi.value)\n",
    "attribute = column_name.value\n",
    "attribute_value = float(column_value.value)\n",
    "studyArea1 = studyArea0.filterMetadata(attribute,'equals',attribute_value).geometry().bounds().coordinates()\n",
    "coords = studyArea1.get(0).getInfo()\n",
    "ll = coords[0]\n",
    "ur = coords[2]\n",
    "minlon = ll[0]\n",
    "minlat = ll[1]\n",
    "maxlon = ur[0]\n",
    "maxlat = ur[1]\n",
    "button = widgets.Button(description='Run SMM')\n",
    "# button, output, function and linkage\n",
    "outt = widgets.Output()\n",
    "print('Asset: ' + aoi.value)\n",
    "print('Column: ' + attribute)\n",
    "print('Column value: ' + str(column_value.value))\n",
    "print('Years: ' + str(year.value))\n",
    "print('Months: ' + str(month.value))\n",
    "print('Days: ' + str(day.value))\n",
    "def format_date(x):\n",
    "    if type(x) is int:\n",
    "        l = [x]\n",
    "    elif len(x) < 2:\n",
    "        l = [x[0]]\n",
    "    else:\n",
    "        l = list(x)\n",
    "    return [str(i) for i in l]  \n",
    "\n",
    "year0= format_date(year.value)\n",
    "year1 = ', '.join(year0)\n",
    "month0= format_date(month.value)\n",
    "month1 = ', '.join(month0)\n",
    "day0= format_date(day.value)\n",
    "day1 = ', '.join(day0) \n",
    "#         attribute_value0 = format_date(column_value.value)\n",
    "#         attribute_value1 = ', '.join(attribute_value0)\n",
    "studyArea0 = aoi.value\n",
    "#         attribute = column_name.value\n",
    "attribute_values1 = str(attribute_value).split('.')[0]\n",
    "    \n",
    "def on_button_clicked(b):\n",
    "    with outt:\n",
    "        clear_output()\n",
    "        print('Processing and downloading soil moisture maps. This takes a long time')\n",
    "\n",
    "        print(attribute_values1)\n",
    "        print(studyArea0)\n",
    "#         !mv ./nohup.out ./nohup_backup.out\n",
    "        py = sys.executable\n",
    "        !bash ./run_smm/run_pysmm.sh $py \"$year1\" \"$month1\" \"$day1\" $minlon $minlat $maxlon $maxlat $attribute_values1\n",
    "        print('done!')\n",
    "button.on_click(on_button_clicked)\n",
    "# display\n",
    "widgets.VBox([button,outt])\n"
   ]
  },
  {
   "cell_type": "code",
   "execution_count": null,
   "metadata": {
    "scrolled": true
   },
   "outputs": [],
   "source": [
    "\n",
    "# print('To run the script in command line copy the line of code below ' )\n",
    "# print('cd  /home/'+user+'/smm')\n",
    "# print('source env/bin/activate')\n",
    "# print('nohup python /home/'+user+'/ws_idn_20190819/scripts/run_pysmm_ui.py '+ str(year1) +' ' + str(month1) +' ' + str(day1)+' '  + str(minlon)+' '  + str(minlat) +' ' + str(maxlon)+' '  + str(attribute_values1) +' &')"
   ]
  },
  {
   "cell_type": "code",
   "execution_count": null,
   "metadata": {
    "scrolled": true
   },
   "outputs": [],
   "source": []
  },
  {
   "cell_type": "code",
   "execution_count": null,
   "metadata": {},
   "outputs": [],
   "source": [
    "# Results will be found in your Google Drive"
   ]
  },
  {
   "cell_type": "code",
   "execution_count": null,
   "metadata": {},
   "outputs": [],
   "source": []
  },
  {
   "cell_type": "code",
   "execution_count": null,
   "metadata": {},
   "outputs": [],
   "source": []
  },
  {
   "cell_type": "code",
   "execution_count": null,
   "metadata": {},
   "outputs": [],
   "source": []
  },
  {
   "cell_type": "code",
   "execution_count": null,
   "metadata": {},
   "outputs": [],
   "source": []
  },
  {
   "cell_type": "code",
   "execution_count": null,
   "metadata": {},
   "outputs": [],
   "source": []
  },
  {
   "cell_type": "code",
   "execution_count": null,
   "metadata": {},
   "outputs": [],
   "source": []
  }
 ],
 "metadata": {
  "celltoolbar": "Raw Cell Format",
  "kernelspec": {
   "display_name": "env",
   "language": "python",
   "name": "env"
  },
  "language_info": {
   "codemirror_mode": {
    "name": "ipython",
    "version": 2
   },
   "file_extension": ".py",
   "mimetype": "text/x-python",
   "name": "python",
   "nbconvert_exporter": "python",
   "pygments_lexer": "ipython2",
   "version": "2.7.15+"
  }
 },
 "nbformat": 4,
 "nbformat_minor": 4
}
