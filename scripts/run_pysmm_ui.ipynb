{
 "cells": [
  {
   "cell_type": "markdown",
   "metadata": {},
   "source": [
    "# Soil moisture mapping module"
   ]
  },
  {
   "cell_type": "code",
   "execution_count": null,
   "metadata": {},
   "outputs": [],
   "source": [
    "#set user libraries\n",
    "import ipywidgets as widgets\n",
    "from IPython.display import display, HTML, clear_output, Image\n",
    "from ipywidgets import HBox, Label\n",
    "import subprocess\n",
    "# import ipyleaflet\n",
    "\n",
    "import pysmm,os\n",
    "from pysmm.derive_SM import get_map\n",
    "import sys\n",
    "import ee\n",
    "import itertools\n",
    "from IPython.core.display import HTML \n",
    "\n",
    "\n",
    "ee.Initialize()\n",
    "path = os.path.dirname(pysmm.__file__)\n",
    "\n",
    "HTML('''<script>\n",
    "code_show=true; \n",
    "function code_toggle() {\n",
    " if (code_show){\n",
    " $('div.input').hide();\n",
    " } else {\n",
    " $('div.input').show();\n",
    " }\n",
    " code_show = !code_show\n",
    "} \n",
    "$( document ).ready(code_toggle);\n",
    "</script>\n",
    "<form action=\"javascript:code_toggle()\"><input type=\"submit\" value=\"Click here to toggle on/off the raw code.\"></form>''')\n"
   ]
  },
  {
   "cell_type": "markdown",
   "metadata": {},
   "source": [
    "# Introduction"
   ]
  },
  {
   "cell_type": "code",
   "execution_count": null,
   "metadata": {},
   "outputs": [],
   "source": [
    "user = path.split(\"/\")[2]\n",
    "print \"Welcome \" +  user + \"!\" + \" Run this application to create soil moisture maps from Sentinel 1 imagery.\""
   ]
  },
  {
   "cell_type": "markdown",
   "metadata": {},
   "source": [
    "# Set user variables"
   ]
  },
  {
   "cell_type": "markdown",
   "metadata": {},
   "source": [
    "## Define the area of interest\n",
    "### Provide the link to a Google Earth Engine asset and define the column name and value to select"
   ]
  },
  {
   "cell_type": "code",
   "execution_count": null,
   "metadata": {
    "scrolled": true
   },
   "outputs": [],
   "source": [
    "aoi =  widgets.Text(\n",
    "#     value='users/yelenafinegold/id94_PHU_BOUNDARY',\n",
    "    value=\"users/yelenaaaa/tiling_all_phu\",\n",
    "    placeholder='Enter your asset ID here',\n",
    "#    description='Google Earth Engine asset ID:',\n",
    "    disabled=False\n",
    "#    , continuous_update=True\n",
    ")\n",
    "ui1 = HBox([Label('Google Earth Engine asset ID: '),aoi])\n",
    "display(ui1)"
   ]
  },
  {
   "cell_type": "code",
   "execution_count": null,
   "metadata": {},
   "outputs": [],
   "source": [
    "studyArea = ee.FeatureCollection(aoi.value)\n",
    "col = ee.Feature(studyArea.first()).propertyNames().getInfo()\n",
    "column_name =  widgets.Select(\n",
    "    options=col,\n",
    "#     value='OBJECTID',\n",
    "    placeholder='column name from the GEE asset',\n",
    "#    description='Column name:',\n",
    "    disabled=False\n",
    "#     , continuous_update=True\n",
    ")\n",
    "ui2 = HBox([Label('Column name: '),column_name])\n",
    "display(ui2)"
   ]
  },
  {
   "cell_type": "code",
   "execution_count": null,
   "metadata": {
    "scrolled": false
   },
   "outputs": [],
   "source": [
    "colval = studyArea.distinct(column_name.value).aggregate_array(column_name.value).getInfo()\n",
    "# print(colval)\n",
    "column_value = widgets.Select(\n",
    "    options=colval,\n",
    "#     value=str(colval),\n",
    "    placeholder='column value from the GEE asset',\n",
    "#    description='Column value:',\n",
    "    disabled=False\n",
    "#     , continuous_update=True\n",
    ")\n",
    "ui3 = HBox([Label('Column value: '),column_value])\n",
    "display(ui3)"
   ]
  },
  {
   "cell_type": "code",
   "execution_count": null,
   "metadata": {
    "scrolled": true
   },
   "outputs": [],
   "source": [
    "# Modify the Year, Month, and Day parameters as desired\n",
    "year = widgets.SelectMultiple(\n",
    "    options=[2014,2015,2016,2017,2018,2019],\n",
    "    value=[2014,2015,2016,2017,2018,2019],\n",
    "    #rows=10,\n",
    "    description='Year',\n",
    "    disabled=False\n",
    ")\n",
    "\n",
    "display(year)\n",
    "\n",
    "month = widgets.SelectMultiple(\n",
    "    options=[('January',1),('February',2),('March',3),('April',4),('May',5),('June',6),('July',7),('August',8),('September',9),('October',10),('November',11),('December',12)],\n",
    "    value=[4,10],\n",
    "    description='Month',\n",
    "    disabled=False\n",
    ")\n",
    "\n",
    "display(month)\n",
    "\n",
    "day = widgets.Select(\n",
    "    options=range(1,32),\n",
    "    value=1,\n",
    "    description='Day',\n",
    "    disabled=False\n",
    ")\n",
    "\n",
    "display(day)\n",
    "\n"
   ]
  },
  {
   "cell_type": "code",
   "execution_count": null,
   "metadata": {},
   "outputs": [],
   "source": [
    "# Print variables to make sure paths are correct"
   ]
  },
  {
   "cell_type": "code",
   "execution_count": null,
   "metadata": {},
   "outputs": [],
   "source": [
    "# Run the PYSMM code for a specified AOI - will iterate over all combinations of Year / Month / Day sequentially."
   ]
  },
  {
   "cell_type": "code",
   "execution_count": null,
   "metadata": {
    "scrolled": true
   },
   "outputs": [],
   "source": [
    "studyArea0 = ee.FeatureCollection(aoi.value)\n",
    "attribute = column_name.value\n",
    "attribute_value = int(column_value.value)\n",
    "studyArea1 = studyArea0.filterMetadata(attribute,'equals',attribute_value).geometry().bounds().coordinates()\n",
    "coords = studyArea1.get(0).getInfo()\n",
    "ll = coords[0]\n",
    "ur = coords[2]\n",
    "minlon = ll[0]\n",
    "minlat = ll[1]\n",
    "maxlon = ur[0]\n",
    "maxlat = ur[1]"
   ]
  },
  {
   "cell_type": "code",
   "execution_count": null,
   "metadata": {
    "scrolled": false
   },
   "outputs": [],
   "source": [
    "button = widgets.Button(description='Run SMM')\n",
    "# button, output, function and linkage\n",
    "outt = widgets.Output()\n",
    "print(aoi.value)\n",
    "def on_button_clicked(b):\n",
    "    with outt:\n",
    "        clear_output()\n",
    "        print('Processing and downloading soil moisture maps. This takes a long time')\n",
    "        def format_date(x):\n",
    "            if type(x) is int:\n",
    "                l = [x]\n",
    "            elif len(x) < 2:\n",
    "                l = [x[0]]\n",
    "            else:\n",
    "                l = list(x)\n",
    "            return [str(i) for i in l]  \n",
    "\n",
    "        year0= format_date(year.value)\n",
    "        year1 = ', '.join(year0)\n",
    "        month0= format_date(month.value)\n",
    "        month1 = ', '.join(month0)\n",
    "        day0= format_date(day.value)\n",
    "        day1 = ', '.join(day0) \n",
    "        attribute_value0 = format_date(column_value.value)\n",
    "        attribute_value1 = ', '.join(attribute_value0)\n",
    "        studyArea0 = aoi.value\n",
    "        attribute = column_name.value\n",
    "\n",
    "        print(studyArea0)\n",
    "#         !mv ./nohup.out ./nohup_backup.out\n",
    "        py = sys.executable\n",
    "        !bash ./run_smm/run_pysmm.sh $py \"$year1\" \"$month1\" \"$day1\" $minlon $minlat $maxlon $maxlat \n",
    "button.on_click(on_button_clicked)\n",
    "# display\n",
    "widgets.VBox([button,outt])\n"
   ]
  },
  {
   "cell_type": "code",
   "execution_count": null,
   "metadata": {},
   "outputs": [],
   "source": []
  },
  {
   "cell_type": "code",
   "execution_count": null,
   "metadata": {},
   "outputs": [],
   "source": []
  },
  {
   "cell_type": "code",
   "execution_count": null,
   "metadata": {},
   "outputs": [],
   "source": [
    "# Results will be found in your Google Drive"
   ]
  },
  {
   "cell_type": "code",
   "execution_count": null,
   "metadata": {},
   "outputs": [],
   "source": []
  }
 ],
 "metadata": {
  "celltoolbar": "Raw Cell Format",
  "kernelspec": {
   "display_name": "env",
   "language": "python",
   "name": "env"
  },
  "language_info": {
   "codemirror_mode": {
    "name": "ipython",
    "version": 2
   },
   "file_extension": ".py",
   "mimetype": "text/x-python",
   "name": "python",
   "nbconvert_exporter": "python",
   "pygments_lexer": "ipython2",
   "version": "2.7.15+"
  }
 },
 "nbformat": 4,
 "nbformat_minor": 4
}
