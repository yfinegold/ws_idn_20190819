{
 "cells": [
  {
   "cell_type": "markdown",
   "metadata": {},
   "source": [
    "# Soil moisture mapping module"
   ]
  },
  {
   "cell_type": "code",
   "execution_count": 1,
   "metadata": {},
   "outputs": [
    {
     "data": {
      "text/html": [
       "<script>\n",
       "code_show=true; \n",
       "function code_toggle() {\n",
       " if (code_show){\n",
       " $('div.input').hide();\n",
       " } else {\n",
       " $('div.input').show();\n",
       " }\n",
       " code_show = !code_show\n",
       "} \n",
       "$( document ).ready(code_toggle);\n",
       "</script>\n",
       "<form action=\"javascript:code_toggle()\"><input type=\"submit\" value=\"Click here to toggle on/off the raw code.\"></form>"
      ],
      "text/plain": [
       "<IPython.core.display.HTML object>"
      ]
     },
     "execution_count": 1,
     "metadata": {},
     "output_type": "execute_result"
    }
   ],
   "source": [
    "#set user libraries\n",
    "import ipywidgets as widgets\n",
    "from IPython.display import display, HTML\n",
    "from ipywidgets import HBox, Label\n",
    "# import ipyleaflet\n",
    "\n",
    "import pysmm,os\n",
    "from pysmm.derive_SM import get_map\n",
    "import sys\n",
    "import ee\n",
    "import itertools\n",
    "# import folium\n",
    "# import numbers\n",
    "from IPython.display import Image\n",
    "from IPython.core.display import HTML \n",
    "\n",
    "\n",
    "#from ee import EELayer, map_layers\n",
    "#from sepal.ee import radar_collection, radar_time_scan, radar_mosaic, radar_viz\n",
    "\n",
    "ee.Initialize()\n",
    "path = os.path.dirname(pysmm.__file__)\n",
    "\n",
    "HTML('''<script>\n",
    "code_show=true; \n",
    "function code_toggle() {\n",
    " if (code_show){\n",
    " $('div.input').hide();\n",
    " } else {\n",
    " $('div.input').show();\n",
    " }\n",
    " code_show = !code_show\n",
    "} \n",
    "$( document ).ready(code_toggle);\n",
    "</script>\n",
    "<form action=\"javascript:code_toggle()\"><input type=\"submit\" value=\"Click here to toggle on/off the raw code.\"></form>''')\n"
   ]
  },
  {
   "cell_type": "markdown",
   "metadata": {},
   "source": [
    "# Introduction"
   ]
  },
  {
   "cell_type": "code",
   "execution_count": 2,
   "metadata": {},
   "outputs": [
    {
     "name": "stdout",
     "output_type": "stream",
     "text": [
      "Welcome finegold! Run this application to create soil moisture maps from Sentinel 1 imagery.\n"
     ]
    }
   ],
   "source": [
    "#print path\n",
    "\n",
    "#print str(sys.argv)\n",
    "\n",
    "user = path.split(\"/\")[2]\n",
    "print \"Welcome \" +  user + \"!\" + \" Run this application to create soil moisture maps from Sentinel 1 imagery.\""
   ]
  },
  {
   "cell_type": "markdown",
   "metadata": {},
   "source": [
    "## Peatlands cover about 3% of the earth's land surface yet hold a huge amount of earth's terrestrial carbon"
   ]
  },
  {
   "cell_type": "code",
   "execution_count": 3,
   "metadata": {},
   "outputs": [
    {
     "ename": "SyntaxError",
     "evalue": "invalid syntax (<ipython-input-3-88de2774e3e6>, line 2)",
     "output_type": "error",
     "traceback": [
      "\u001b[0;36m  File \u001b[0;32m\"<ipython-input-3-88de2774e3e6>\"\u001b[0;36m, line \u001b[0;32m2\u001b[0m\n\u001b[0;31m    <img src=\"https://www.dropbox.com/s/c7zgr4341sfbm4a/wetlands_international_peatlands_extent.png\", width=60, height=60>\u001b[0m\n\u001b[0m    ^\u001b[0m\n\u001b[0;31mSyntaxError\u001b[0m\u001b[0;31m:\u001b[0m invalid syntax\n"
     ]
    }
   ],
   "source": [
    "Image(url= \"https://www.dropbox.com/s/c7zgr4341sfbm4a/wetlands_international_peatlands_extent.png\" , width=50, height=50,unconfined=True)\n",
    "<img src=\"https://www.dropbox.com/s/c7zgr4341sfbm4a/wetlands_international_peatlands_extent.png\", width=60, height=60>"
   ]
  },
  {
   "cell_type": "markdown",
   "metadata": {},
   "source": [
    "![Peat extent](../docs/imgs/wetlands_international_peatlands_extent.png)\n",
    "![sds]<../docs/imgs/wetlands_international_peatlands_extent.png>\n",
    "[Peat extent]<https://www.dropbox.com/s/c7zgr4341sfbm4a/wetlands_international_peatlands_extent.png?dl=0 \"Peat extent and thickness map of Indonesia\">\n",
    "<img src=\"https://www.dropbox.com/s/c7zgr4341sfbm4a/wetlands_international_peatlands_extent.png\", width=\"20\", height=\"10\">\n",
    "\n",
    "<img src=\"../docs/imgs/wetlands_international_peatlands_extent.png\" height=\"height:50px\">\n",
    "<img src=\"https://www.dropbox.com/s/c7zgr4341sfbm4a/wetlands_international_peatlands_extent.png\" height=\"height:20px\" width=\"width:50px\">\n",
    "\n",
    "\n",
    "#### Peat extent and thickness map of Indonesia from the Wetlands International 2004 ([Minsany et al. 2019](../docs/background/minsany_etal_2019_digital_mapping_of_peatlands_critical_review.pdf))"
   ]
  },
  {
   "cell_type": "markdown",
   "metadata": {},
   "source": [
    "# Set user variables"
   ]
  },
  {
   "cell_type": "markdown",
   "metadata": {},
   "source": [
    "### Import Python modules to run PYSMM"
   ]
  },
  {
   "cell_type": "markdown",
   "metadata": {},
   "source": [
    "## Define the area of interest\n",
    "### Provide the link to a Google Earth Engine asset and define the column name and value to select"
   ]
  },
  {
   "cell_type": "code",
   "execution_count": null,
   "metadata": {},
   "outputs": [],
   "source": [
    "aoi =  widgets.Text(\n",
    "    value='users/yelenafinegold/id94_PHU_BOUNDARY',\n",
    "    placeholder='Enter your asset ID here',\n",
    "#    description='Google Earth Engine asset ID:',\n",
    "    disabled=False\n",
    ")\n",
    "\n",
    "\n",
    "column_name =  widgets.Text(\n",
    "    value='OBJECTID',\n",
    "    placeholder='column name from the GEE asset',\n",
    "#    description='Column name:',\n",
    "    disabled=False\n",
    ")\n",
    "#display(column_name)\n",
    "\n",
    "column_value = widgets.Text(\n",
    "    value=\"94\",\n",
    "    placeholder='column value from the GEE asset',\n",
    "#    description='Column value:',\n",
    "    disabled=False\n",
    ")\n",
    "#display(column_value)\n",
    "ui1 = HBox([Label('Google Earth Engine asset ID: '),aoi])\n",
    "ui2 = HBox([Label('Column name: '),column_name])\n",
    "ui3 = HBox([Label('Column value: '),column_value])\n",
    "\n",
    "#ui = HBox([Label('Google Earth Engine asset ID: '),aoi],\n",
    "#      [Label('Column name: '),column_name],\n",
    "#      [Label('Column value: '),column_value])\n",
    "display(ui1,ui2,ui3)\n",
    "\n",
    "\n",
    "#print(aoi.result)\n",
    "def f(a):\n",
    "    print((a))\n",
    "\n",
    "out = widgets.interactive_output(f, {'a': aoi})\n",
    "display(out)\n",
    "aoiv = aoi.value\n",
    "print(aoiv)\n",
    "#aoi = 'users/yelenafinegold/aceh_askari'\n",
    "#column_name = 'tileID'\n",
    "#column_value = 61"
   ]
  },
  {
   "cell_type": "code",
   "execution_count": null,
   "metadata": {},
   "outputs": [],
   "source": [
    "## try to plot using folium\n",
    "aoiv = aoi.value\n",
    "print(aoiv)\n",
    "studyArea = ee.FeatureCollection(aoiv)\n",
    "print(studyArea)\n",
    "Map.addLayer(ecoregions, {}, 'default display');\n",
    "mosaic_layer = EELayer(\n",
    "    image=studyArea,\n",
    "#    viz_params=radar_viz.params('VV, VH, ratio_VV_VH'),\n",
    "    center=True,\n",
    "    name='Point-in-time mosaic'\n",
    ")\n",
    "map_layers([mosaic_layer])"
   ]
  },
  {
   "cell_type": "code",
   "execution_count": null,
   "metadata": {},
   "outputs": [],
   "source": [
    "## try to plot using leaflet\n",
    "map1 = ipyleaflet.Map(zoom=1, layout={'height':'300px'})\n",
    "tile_url = GetTileLayerUrl(aoiv.visualize(min=0, max=365, bands= ['is_FD'], palette=['black', 'white']))\n",
    "map1.add_layer(ipyleaflet.TileLayer(url=tile_url))\n",
    "map1"
   ]
  },
  {
   "cell_type": "code",
   "execution_count": null,
   "metadata": {},
   "outputs": [],
   "source": [
    "# another try to plot the AOI\n",
    "%matplotlib inline\n",
    "%pylab inline\n",
    "pylab.rcParams['figure.figsize'] = (13, 13)\n",
    "\n",
    "# we need to convert our point to a shapefile\n",
    "# vec.llPoint2shp(lat, lon, '{}/.aoiPoint.shp'.format(prjDir))\n",
    "# aoi = '{}/.aoiPoint.shp'.format(prjDir)\n",
    "\n",
    "# re-read output file into a GeoDataFrame for further steps\n",
    "footprintGdf = refine.readS1Inventory(output)\n",
    "footprintGdf = footprintGdf[footprintGdf.endposition == footprintGdf.endposition.max()]\n",
    "\n",
    "print(' INFO: Latest Sentinel product'\n",
    "      ' for Lat: {} and Lon: {}'\n",
    "      ' found from {}'.format(lat, lon, footprintGdf.endposition.max()))\n",
    "\n",
    "vec.plotInv(aoi, footprintGdf)"
   ]
  },
  {
   "cell_type": "code",
   "execution_count": null,
   "metadata": {
    "scrolled": true
   },
   "outputs": [],
   "source": [
    "\n",
    "\n",
    "year = widgets.SelectMultiple(\n",
    "    options=[2014,2015,2016,2017,2018,2019],\n",
    "    value=[2014,2015,2016,2017,2018,2019],\n",
    "    #rows=10,\n",
    "    description='Year',\n",
    "    disabled=False\n",
    ")\n",
    "\n",
    "display(year)\n",
    "\n",
    "month = widgets.SelectMultiple(\n",
    "    options=[('January',1),('February',2),('March',3),('April',4),('May',5),('June',6),('July',7),('August',8),('September',9),('October',10),('November',11),('December',12)],\n",
    "    value=[6,12],\n",
    "    description='Month',\n",
    "    disabled=False\n",
    ")\n",
    "\n",
    "display(month)\n",
    "\n",
    "day = widgets.Select(\n",
    "    options=range(1,32),\n",
    "    value=1,\n",
    "    description='Day',\n",
    "    disabled=False\n",
    ")\n",
    "\n",
    "display(day)\n",
    "\n"
   ]
  },
  {
   "cell_type": "code",
   "execution_count": null,
   "metadata": {},
   "outputs": [],
   "source": [
    "# Print variables to make sure paths are correct"
   ]
  },
  {
   "cell_type": "code",
   "execution_count": null,
   "metadata": {},
   "outputs": [],
   "source": []
  },
  {
   "cell_type": "code",
   "execution_count": null,
   "metadata": {},
   "outputs": [],
   "source": [
    "# Modify the Year, Month, and Day parameters as desired"
   ]
  },
  {
   "cell_type": "code",
   "execution_count": null,
   "metadata": {},
   "outputs": [],
   "source": [
    "year = [2014,2015,2016,2017,2018,2019]\n",
    "month = [6,12]\n",
    "day = [1]"
   ]
  },
  {
   "cell_type": "code",
   "execution_count": null,
   "metadata": {},
   "outputs": [],
   "source": [
    "# Run the PYSMM code for a specified Lat/Lon box - will iterate over all combinations of Year / Month / Day sequentially."
   ]
  },
  {
   "cell_type": "code",
   "execution_count": null,
   "metadata": {},
   "outputs": [],
   "source": [
    "studyArea = ee.FeatureCollection(aoi)\n",
    "attribute = column_name\n",
    "attribute_value = column_value\n",
    "\n",
    "studyArea = studyArea.filterMetadata(attribute,'equals',attribute_value).geometry().coordinates()\n",
    "coords = studyArea.get(0).getInfo()\n",
    "\n",
    "ll = coords[0]\n",
    "ur = coords[2]\n",
    "minlon = ll[0]\n",
    "minlat = ll[1]\n",
    "maxlon = ur[0]\n",
    "maxlat = ur[1]\n",
    "\n",
    "print minlon"
   ]
  },
  {
   "cell_type": "code",
   "execution_count": null,
   "metadata": {},
   "outputs": [],
   "source": [
    "for a, b, c in itertools.product( year, month, day):\n",
    "\n",
    "\tprint a\n",
    "\tprint b\n",
    "\tprint c\n",
    "  \n",
    "\tget_map(minlon , minlat ,maxlon, maxlat,\n",
    "        \t'/data/home/' + user + '/',\n",
    "        \tsampling=100,\n",
    "\t\tyear=a, month=b, day=c,\n",
    "       # year=int(sys.argv[1]), month=int(sys.argv[2]), day=int(sys.argv[3]),\n",
    "        \ttracknr=None,\n",
    "        \ttempfilter=True,\n",
    "        \tmask='Globcover',\n",
    "        \tmasksnow=False,\n",
    "        \toverwrite=True)\n"
   ]
  },
  {
   "cell_type": "code",
   "execution_count": null,
   "metadata": {},
   "outputs": [],
   "source": [
    "# Results will be found in your Google Drive"
   ]
  }
 ],
 "metadata": {
  "celltoolbar": "Raw Cell Format",
  "kernelspec": {
   "display_name": "env",
   "language": "python",
   "name": "env"
  },
  "language_info": {
   "codemirror_mode": {
    "name": "ipython",
    "version": 2
   },
   "file_extension": ".py",
   "mimetype": "text/x-python",
   "name": "python",
   "nbconvert_exporter": "python",
   "pygments_lexer": "ipython2",
   "version": "2.7.15+"
  }
 },
 "nbformat": 4,
 "nbformat_minor": 4
}
