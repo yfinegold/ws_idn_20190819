{
 "cells": [
  {
   "cell_type": "markdown",
   "metadata": {},
   "source": [
    "# Soil moisture mapping module"
   ]
  },
  {
   "cell_type": "code",
   "execution_count": 1,
   "metadata": {},
   "outputs": [
    {
     "data": {
      "text/html": [
       "<script>\n",
       "code_show=true; \n",
       "function code_toggle() {\n",
       " if (code_show){\n",
       " $('div.input').hide();\n",
       " } else {\n",
       " $('div.input').show();\n",
       " }\n",
       " code_show = !code_show\n",
       "} \n",
       "$( document ).ready(code_toggle);\n",
       "</script>\n",
       "<form action=\"javascript:code_toggle()\"><input type=\"submit\" value=\"Click here to toggle on/off the raw code.\"></form>"
      ],
      "text/plain": [
       "<IPython.core.display.HTML object>"
      ]
     },
     "execution_count": 1,
     "metadata": {},
     "output_type": "execute_result"
    }
   ],
   "source": [
    "#set user libraries\n",
    "import ipywidgets as widgets\n",
    "from IPython.display import display, HTML, clear_output, Image\n",
    "from ipywidgets import HBox, Label\n",
    "import subprocess\n",
    "# import ipyleaflet\n",
    "\n",
    "import pysmm,os\n",
    "from pysmm.derive_SM import get_map\n",
    "import sys\n",
    "import ee\n",
    "import itertools\n",
    "from IPython.core.display import HTML \n",
    "\n",
    "\n",
    "ee.Initialize()\n",
    "path = os.path.dirname(pysmm.__file__)\n",
    "\n",
    "HTML('''<script>\n",
    "code_show=true; \n",
    "function code_toggle() {\n",
    " if (code_show){\n",
    " $('div.input').hide();\n",
    " } else {\n",
    " $('div.input').show();\n",
    " }\n",
    " code_show = !code_show\n",
    "} \n",
    "$( document ).ready(code_toggle);\n",
    "</script>\n",
    "<form action=\"javascript:code_toggle()\"><input type=\"submit\" value=\"Click here to toggle on/off the raw code.\"></form>''')\n"
   ]
  },
  {
   "cell_type": "markdown",
   "metadata": {},
   "source": [
    "# Introduction"
   ]
  },
  {
   "cell_type": "code",
   "execution_count": 2,
   "metadata": {},
   "outputs": [
    {
     "name": "stdout",
     "output_type": "stream",
     "text": [
      "Welcome finegold! Run this application to create soil moisture maps from Sentinel 1 imagery.\n"
     ]
    }
   ],
   "source": [
    "#print path\n",
    "\n",
    "#print str(sys.argv)\n",
    "\n",
    "user = path.split(\"/\")[2]\n",
    "print \"Welcome \" +  user + \"!\" + \" Run this application to create soil moisture maps from Sentinel 1 imagery.\""
   ]
  },
  {
   "cell_type": "markdown",
   "metadata": {},
   "source": [
    "# Set user variables"
   ]
  },
  {
   "cell_type": "markdown",
   "metadata": {},
   "source": [
    "## Define the area of interest\n",
    "### Provide the link to a Google Earth Engine asset and define the column name and value to select"
   ]
  },
  {
   "cell_type": "code",
   "execution_count": 22,
   "metadata": {
    "scrolled": true
   },
   "outputs": [
    {
     "data": {
      "application/vnd.jupyter.widget-view+json": {
       "model_id": "e7e81b12ed6e426f8228518db69c93b7",
       "version_major": 2,
       "version_minor": 0
      },
      "text/plain": [
       "SEJveChjaGlsZHJlbj0oTGFiZWwodmFsdWU9dSdHb29nbGUgRWFydGggRW5naW5lIGFzc2V0IElEOiAnKSwgVGV4dCh2YWx1ZT11J3VzZXJzL3llbGVuYWZpbmVnb2xkL2lkOTRfUEhVX0JPVU7igKY=\n"
      ]
     },
     "metadata": {},
     "output_type": "display_data"
    }
   ],
   "source": [
    "aoi =  widgets.Text(\n",
    "    value='users/yelenafinegold/id94_PHU_BOUNDARY',\n",
    "#     value=\"users/yelenaaaa/tiling_all_phu\",\n",
    "    placeholder='Enter your asset ID here',\n",
    "#    description='Google Earth Engine asset ID:',\n",
    "    disabled=False\n",
    "#    , continuous_update=True\n",
    ")\n",
    "\n",
    "# studyArea = ee.FeatureCollection(aoi.value)\n",
    "# col = ee.Feature(studyArea.first()).propertyNames().getInfo()\n",
    "# # print(col)\n",
    "# column_name =  widgets.Select(\n",
    "#     options=col,\n",
    "#     value='OBJECTID',\n",
    "#     placeholder='column name from the GEE asset',\n",
    "# #    description='Column name:',\n",
    "#     disabled=False\n",
    "# )\n",
    "# print('column_name: {}').format(column_name)\n",
    "# print('column_name.value: {}').format(column_name.value)\n",
    "# #display(column_name)\n",
    "\n",
    "# colval = studyArea.distinct(column_name.value).aggregate_array(column_name.value).getInfo()\n",
    "# print(colval)\n",
    "# column_value = widgets.Select(\n",
    "#     options=colval,\n",
    "# #     value=str(colval),\n",
    "#     placeholder='column value from the GEE asset',\n",
    "# #    description='Column value:',\n",
    "#     disabled=False\n",
    "# )\n",
    "#display(column_value)\n",
    "ui1 = HBox([Label('Google Earth Engine asset ID: '),aoi])\n",
    "# ui2 = HBox([Label('Column name: '),column_name])\n",
    "# ui3 = HBox([Label('Column value: '),column_value])\n",
    "\n",
    "#ui = HBox([Label('Google Earth Engine asset ID: '),aoi],\n",
    "#      [Label('Column name: '),column_name],\n",
    "#      [Label('Column value: '),column_value])\n",
    "# display(ui1,ui2,ui3)\n",
    "display(ui1)\n",
    "\n",
    "\n",
    "#print(aoi.result)\n",
    "# def f(a):\n",
    "#     print((a))\n",
    "\n",
    "# out = widgets.interactive_output(f, {'a': aoi})\n",
    "# display(out)\n",
    "# aoiv = aoi.value\n",
    "# print(aoiv)\n",
    "\n",
    "\n",
    "#aoi = 'users/yelenafinegold/aceh_askari'\n",
    "#column_name = 'tileID'\n",
    "#column_value = 61"
   ]
  },
  {
   "cell_type": "code",
   "execution_count": 30,
   "metadata": {
    "scrolled": false
   },
   "outputs": [
    {
     "name": "stdout",
     "output_type": "stream",
     "text": [
      "[u'OBJECTID', u'NAMA_KHG', u'tahun', u'LUAS_KHG', u'KODE_KHG', u'L', u'system:index']\n",
      "column_name: Select(options=(), value=None)\n",
      "column_name.value: None\n"
     ]
    },
    {
     "ename": "EEException",
     "evalue": "Parameter 'property' is required.",
     "output_type": "error",
     "traceback": [
      "\u001b[0;31m\u001b[0m",
      "\u001b[0;31mEEException\u001b[0mTraceback (most recent call last)",
      "\u001b[0;32m<ipython-input-30-ac08d2283aae>\u001b[0m in \u001b[0;36m<module>\u001b[0;34m()\u001b[0m\n\u001b[1;32m     39\u001b[0m \u001b[0;31m#display(column_name)\u001b[0m\u001b[0;34m\u001b[0m\u001b[0;34m\u001b[0m\u001b[0;34m\u001b[0m\u001b[0m\n\u001b[1;32m     40\u001b[0m \u001b[0;34m\u001b[0m\u001b[0m\n\u001b[0;32m---> 41\u001b[0;31m \u001b[0mcolval\u001b[0m \u001b[0;34m=\u001b[0m \u001b[0mstudyArea\u001b[0m\u001b[0;34m.\u001b[0m\u001b[0mdistinct\u001b[0m\u001b[0;34m(\u001b[0m\u001b[0mcolumn_name\u001b[0m\u001b[0;34m.\u001b[0m\u001b[0mvalue\u001b[0m\u001b[0;34m)\u001b[0m\u001b[0;34m.\u001b[0m\u001b[0maggregate_array\u001b[0m\u001b[0;34m(\u001b[0m\u001b[0mcolumn_name\u001b[0m\u001b[0;34m.\u001b[0m\u001b[0mvalue\u001b[0m\u001b[0;34m)\u001b[0m\u001b[0;34m.\u001b[0m\u001b[0mgetInfo\u001b[0m\u001b[0;34m(\u001b[0m\u001b[0;34m)\u001b[0m\u001b[0;34m\u001b[0m\u001b[0;34m\u001b[0m\u001b[0m\n\u001b[0m\u001b[1;32m     42\u001b[0m \u001b[0;32mprint\u001b[0m\u001b[0;34m(\u001b[0m\u001b[0mcolval\u001b[0m\u001b[0;34m)\u001b[0m\u001b[0;34m\u001b[0m\u001b[0;34m\u001b[0m\u001b[0m\n\u001b[1;32m     43\u001b[0m column_value = widgets.Select(\n",
      "\u001b[0;32m/usr/local/lib/python2.7/dist-packages/ee/computedobject.pyc\u001b[0m in \u001b[0;36mgetInfo\u001b[0;34m(self)\u001b[0m\n\u001b[1;32m     93\u001b[0m       \u001b[0mThe\u001b[0m \u001b[0mobject\u001b[0m \u001b[0mcan\u001b[0m \u001b[0mevaluate\u001b[0m \u001b[0mto\u001b[0m \u001b[0manything\u001b[0m\u001b[0;34m.\u001b[0m\u001b[0;34m\u001b[0m\u001b[0;34m\u001b[0m\u001b[0m\n\u001b[1;32m     94\u001b[0m     \"\"\"\n\u001b[0;32m---> 95\u001b[0;31m     \u001b[0;32mreturn\u001b[0m \u001b[0mdata\u001b[0m\u001b[0;34m.\u001b[0m\u001b[0mcomputeValue\u001b[0m\u001b[0;34m(\u001b[0m\u001b[0mself\u001b[0m\u001b[0;34m)\u001b[0m\u001b[0;34m\u001b[0m\u001b[0;34m\u001b[0m\u001b[0m\n\u001b[0m\u001b[1;32m     96\u001b[0m \u001b[0;34m\u001b[0m\u001b[0m\n\u001b[1;32m     97\u001b[0m   \u001b[0;32mdef\u001b[0m \u001b[0mencode\u001b[0m\u001b[0;34m(\u001b[0m\u001b[0mself\u001b[0m\u001b[0;34m,\u001b[0m \u001b[0mencoder\u001b[0m\u001b[0;34m)\u001b[0m\u001b[0;34m:\u001b[0m\u001b[0;34m\u001b[0m\u001b[0;34m\u001b[0m\u001b[0m\n",
      "\u001b[0;32m/usr/local/lib/python2.7/dist-packages/ee/data.pyc\u001b[0m in \u001b[0;36mcomputeValue\u001b[0;34m(obj)\u001b[0m\n\u001b[1;32m    639\u001b[0m         \u001b[0mproject\u001b[0m\u001b[0;34m=\u001b[0m\u001b[0m_get_projects_path\u001b[0m\u001b[0;34m(\u001b[0m\u001b[0;34m)\u001b[0m\u001b[0;34m,\u001b[0m\u001b[0;34m\u001b[0m\u001b[0;34m\u001b[0m\u001b[0m\n\u001b[1;32m    640\u001b[0m         prettyPrint=False))['result']\n\u001b[0;32m--> 641\u001b[0;31m   \u001b[0;32mreturn\u001b[0m \u001b[0msend_\u001b[0m\u001b[0;34m(\u001b[0m\u001b[0;34m'/value'\u001b[0m\u001b[0;34m,\u001b[0m \u001b[0;34m(\u001b[0m\u001b[0;34m{\u001b[0m\u001b[0;34m'json'\u001b[0m\u001b[0;34m:\u001b[0m \u001b[0mobj\u001b[0m\u001b[0;34m.\u001b[0m\u001b[0mserialize\u001b[0m\u001b[0;34m(\u001b[0m\u001b[0;34m)\u001b[0m\u001b[0;34m,\u001b[0m \u001b[0;34m'json_format'\u001b[0m\u001b[0;34m:\u001b[0m \u001b[0;34m'v2'\u001b[0m\u001b[0;34m}\u001b[0m\u001b[0;34m)\u001b[0m\u001b[0;34m)\u001b[0m\u001b[0;34m\u001b[0m\u001b[0;34m\u001b[0m\u001b[0m\n\u001b[0m\u001b[1;32m    642\u001b[0m \u001b[0;34m\u001b[0m\u001b[0m\n\u001b[1;32m    643\u001b[0m \u001b[0;34m\u001b[0m\u001b[0m\n",
      "\u001b[0;32m/usr/local/lib/python2.7/dist-packages/ee/data.pyc\u001b[0m in \u001b[0;36msend_\u001b[0;34m(path, params, opt_method, opt_raw)\u001b[0m\n\u001b[1;32m   1695\u001b[0m       \u001b[0;32mraise\u001b[0m \u001b[0mee_exception\u001b[0m\u001b[0;34m.\u001b[0m\u001b[0mEEException\u001b[0m\u001b[0;34m(\u001b[0m\u001b[0;34m'Invalid JSON: %s'\u001b[0m \u001b[0;34m%\u001b[0m \u001b[0mcontent\u001b[0m\u001b[0;34m)\u001b[0m\u001b[0;34m\u001b[0m\u001b[0;34m\u001b[0m\u001b[0m\n\u001b[1;32m   1696\u001b[0m     \u001b[0;32mif\u001b[0m \u001b[0;34m'error'\u001b[0m \u001b[0;32min\u001b[0m \u001b[0mjson_content\u001b[0m\u001b[0;34m:\u001b[0m\u001b[0;34m\u001b[0m\u001b[0;34m\u001b[0m\u001b[0m\n\u001b[0;32m-> 1697\u001b[0;31m       \u001b[0;32mraise\u001b[0m \u001b[0mee_exception\u001b[0m\u001b[0;34m.\u001b[0m\u001b[0mEEException\u001b[0m\u001b[0;34m(\u001b[0m\u001b[0mjson_content\u001b[0m\u001b[0;34m[\u001b[0m\u001b[0;34m'error'\u001b[0m\u001b[0;34m]\u001b[0m\u001b[0;34m[\u001b[0m\u001b[0;34m'message'\u001b[0m\u001b[0;34m]\u001b[0m\u001b[0;34m)\u001b[0m\u001b[0;34m\u001b[0m\u001b[0;34m\u001b[0m\u001b[0m\n\u001b[0m\u001b[1;32m   1698\u001b[0m     \u001b[0;32mif\u001b[0m \u001b[0;34m'data'\u001b[0m \u001b[0;32mnot\u001b[0m \u001b[0;32min\u001b[0m \u001b[0mcontent\u001b[0m\u001b[0;34m:\u001b[0m\u001b[0;34m\u001b[0m\u001b[0;34m\u001b[0m\u001b[0m\n\u001b[1;32m   1699\u001b[0m       \u001b[0;32mraise\u001b[0m \u001b[0mee_exception\u001b[0m\u001b[0;34m.\u001b[0m\u001b[0mEEException\u001b[0m\u001b[0;34m(\u001b[0m\u001b[0;34m'Malformed response: '\u001b[0m \u001b[0;34m+\u001b[0m \u001b[0mstr\u001b[0m\u001b[0;34m(\u001b[0m\u001b[0mcontent\u001b[0m\u001b[0;34m)\u001b[0m\u001b[0;34m)\u001b[0m\u001b[0;34m\u001b[0m\u001b[0;34m\u001b[0m\u001b[0m\n",
      "\u001b[0;31mEEException\u001b[0m: Parameter 'property' is required."
     ]
    }
   ],
   "source": [
    "studyArea = ee.FeatureCollection(aoi.value)\n",
    "col = ee.Feature(studyArea.first()).propertyNames().getInfo()\n",
    "print(col)\n",
    "\n",
    "\n",
    "\n",
    "# column_name =  widgets.Select(\n",
    "#     options=col,\n",
    "# #     value='OBJECTID',\n",
    "#     placeholder='column name from the GEE asset',\n",
    "# #    description='Column name:',\n",
    "#     disabled=False\n",
    "# #     , continuous_update=True\n",
    "# )\n",
    "# search_text = widgets.Text(description = 'Search') \n",
    "\n",
    "column_name = widgets.Select()\n",
    " \n",
    "def on_value_change(change):\n",
    "    studyArea = ee.FeatureCollection(aoi.value)\n",
    "    col = ee.Feature(studyArea.first()).propertyNames().getInfo()\n",
    "    print col\n",
    " \n",
    "column_name.observe(on_value_change,  names='value')\n",
    "\n",
    "\n",
    "x_widget = FloatSlider(min=0.0, max=10.0, step=0.05)\n",
    "y_widget = FloatSlider(min=0.5, max=10.0, step=0.05, value=5.0)\n",
    "def update_x_range(*args):\n",
    "x_widget.max = 2.0 * y_widget.value\n",
    "y_widget.observe(update_x_range, 'value')\n",
    "def printer(x, y):\n",
    "print(x, y)\n",
    "interact(printer,x=x_widget, y=y_widget);\n",
    "\n",
    "\n",
    "# column_name = widgets.Select(placeholder='column name from the GEE asset')\n",
    "\n",
    "\n",
    "# def search_action(sender):\n",
    "#     studyArea = ee.FeatureCollection(aoi.value)\n",
    "#     col = ee.Feature(studyArea.first()).propertyNames().getInfo()\n",
    "#     with column_name.hold_trait_notifications():\n",
    "#         column_name.options = col\n",
    "        \n",
    "# aoi.on_submit(search_action)\n",
    "\n",
    "\n",
    "\n",
    "print('column_name: {}').format(column_name)\n",
    "print('column_name.value: {}').format(column_name.value)\n",
    "#display(column_name)\n",
    "\n",
    "colval = studyArea.distinct(column_name.value).aggregate_array(column_name.value).getInfo()\n",
    "print(colval)\n",
    "column_value = widgets.Select(\n",
    "    options=colval,\n",
    "#     value=str(colval),\n",
    "    placeholder='column value from the GEE asset',\n",
    "#    description='Column value:',\n",
    "    disabled=False\n",
    "#     , continuous_update=True\n",
    ")\n",
    "#display(column_value)\n",
    "# ui1 = HBox([Label('Google Earth Engine asset ID: '),aoi])\n",
    "ui2 = HBox([Label('Column name: '),column_name])\n",
    "ui3 = HBox([Label('Column value: '),column_value])\n",
    "# l = widgets.link((aoi, 'value'),(column_name, 'value'), (column_value, 'value'))\n",
    "\n",
    "#ui = HBox([Label('Google Earth Engine asset ID: '),aoi],\n",
    "#      [Label('Column name: '),column_name],\n",
    "#      [Label('Column value: '),column_value])\n",
    "display(ui2,ui3)"
   ]
  },
  {
   "cell_type": "code",
   "execution_count": 24,
   "metadata": {
    "scrolled": false
   },
   "outputs": [
    {
     "data": {
      "application/vnd.jupyter.widget-view+json": {
       "model_id": "0372c5655f1b49e5b696de0866d427d5",
       "version_major": 2,
       "version_minor": 0
      },
      "text/plain": [
       "U2VsZWN0TXVsdGlwbGUoZGVzY3JpcHRpb249dSdZZWFyJywgaW5kZXg9KDAsIDEsIDIsIDMsIDQsIDUpLCBvcHRpb25zPSgyMDE0LCAyMDE1LCAyMDE2LCAyMDE3LCAyMDE4LCAyMDE5KSwgdmHigKY=\n"
      ]
     },
     "metadata": {},
     "output_type": "display_data"
    },
    {
     "data": {
      "application/vnd.jupyter.widget-view+json": {
       "model_id": "1f138e2b90644ed7abd4795da67bc02f",
       "version_major": 2,
       "version_minor": 0
      },
      "text/plain": [
       "U2VsZWN0TXVsdGlwbGUoZGVzY3JpcHRpb249dSdNb250aCcsIGluZGV4PSg1LCAxMSksIG9wdGlvbnM9KCgnSmFudWFyeScsIDEpLCAoJ0ZlYnJ1YXJ5JywgMiksICgnTWFyY2gnLCAzKSwgKCfigKY=\n"
      ]
     },
     "metadata": {},
     "output_type": "display_data"
    },
    {
     "data": {
      "application/vnd.jupyter.widget-view+json": {
       "model_id": "4dd1ed2a94134c23b6ce58880c9e35e5",
       "version_major": 2,
       "version_minor": 0
      },
      "text/plain": [
       "U2VsZWN0KGRlc2NyaXB0aW9uPXUnRGF5Jywgb3B0aW9ucz0oMSwgMiwgMywgNCwgNSwgNiwgNywgOCwgOSwgMTAsIDExLCAxMiwgMTMsIDE0LCAxNSwgMTYsIDE3LCAxOCwgMTksIDIwLCAyMSzigKY=\n"
      ]
     },
     "metadata": {},
     "output_type": "display_data"
    }
   ],
   "source": [
    "# Modify the Year, Month, and Day parameters as desired\n",
    "year = widgets.SelectMultiple(\n",
    "    options=[2014,2015,2016,2017,2018,2019],\n",
    "    value=[2014,2015,2016,2017,2018,2019],\n",
    "    #rows=10,\n",
    "    description='Year',\n",
    "    disabled=False\n",
    ")\n",
    "\n",
    "display(year)\n",
    "\n",
    "month = widgets.SelectMultiple(\n",
    "    options=[('January',1),('February',2),('March',3),('April',4),('May',5),('June',6),('July',7),('August',8),('September',9),('October',10),('November',11),('December',12)],\n",
    "    value=[6,12],\n",
    "    description='Month',\n",
    "    disabled=False\n",
    ")\n",
    "\n",
    "display(month)\n",
    "\n",
    "day = widgets.Select(\n",
    "    options=range(1,32),\n",
    "    value=1,\n",
    "    description='Day',\n",
    "    disabled=False\n",
    ")\n",
    "\n",
    "display(day)\n",
    "\n"
   ]
  },
  {
   "cell_type": "code",
   "execution_count": null,
   "metadata": {},
   "outputs": [],
   "source": [
    "# Print variables to make sure paths are correct"
   ]
  },
  {
   "cell_type": "code",
   "execution_count": null,
   "metadata": {},
   "outputs": [],
   "source": [
    "# Run the PYSMM code for a specified AOI - will iterate over all combinations of Year / Month / Day sequentially."
   ]
  },
  {
   "cell_type": "code",
   "execution_count": null,
   "metadata": {
    "scrolled": true
   },
   "outputs": [],
   "source": [
    "studyArea = ee.FeatureCollection(aoi.value)\n",
    "attribute = column_name.value\n",
    "attribute_value = int(column_value.value)\n",
    "studyArea = studyArea.filterMetadata(attribute,'equals',attribute_value).geometry().bounds().coordinates()\n",
    "coords = studyArea.get(0).getInfo()\n",
    "ll = coords[0]\n",
    "ur = coords[2]\n",
    "minlon = ll[0]\n",
    "minlat = ll[1]\n",
    "maxlon = ur[0]\n",
    "maxlat = ur[1]\n",
    "\n",
    "# print minlon "
   ]
  },
  {
   "cell_type": "code",
   "execution_count": null,
   "metadata": {
    "scrolled": true
   },
   "outputs": [],
   "source": [
    "button = widgets.Button(description='Run SMM')\n",
    "# button, output, function and linkage\n",
    "outt = widgets.Output()\n",
    "\n",
    "def on_button_clicked(b):\n",
    "    with outt:\n",
    "        clear_output()\n",
    "        print('Processing and downloading soil moisture maps. This takes a long time')\n",
    "        def format_date(x):\n",
    "            if type(x) is int:\n",
    "                l = [x]\n",
    "            elif len(x) < 2:\n",
    "                l = [x[0]]\n",
    "            else:\n",
    "                l = list(x)\n",
    "            return [str(i) for i in l]  \n",
    "            \n",
    "\n",
    "\n",
    "        print('this is minlon' + str(minlon))   \n",
    "\n",
    "\n",
    "        year0= format_date(year.value)\n",
    "        year1 = ', '.join(year0)\n",
    "        month0= format_date(month.value)\n",
    "        month1 = ', '.join(month0)\n",
    "        day0= format_date(day.value)\n",
    "        day1 = ', '.join(day0) \n",
    "        \n",
    "        py = sys.executable\n",
    "        !echo test\n",
    "#         !source env/bin/activate\n",
    "        !bash /home/finegold/run_pysmm.sh $py \"$year1\" \"$month1\" \"$day1\" $minlon $minlat $maxlon $maxlat \n",
    "\n",
    "#         !nohup $py /home/finegold/run_pysmm.py \"$year1\" \"$month1\" \"$day1\" $minlon $minlat $maxlon $maxlat \n",
    "        !tail -f ./nohup.out\n",
    "        \n",
    "#         !deactivate\n",
    "#         cmd = ['python', '/home/finegold/run_pysmm.py']\n",
    "\n",
    "#         p = subprocess.Popen(cmd, shell=True, stdout=subprocess.PIPE, stderr=subprocess.STDOUT)\n",
    "#         for line in p.stdout.readlines():\n",
    "#             print line,\n",
    "#         retval = p.wait()\n",
    "\n",
    "#         cmd = ['nohup ', 'python ', '/home/finegold/ws_idn_20190819/scripts/run_pysmm.py ', '&']\n",
    "#         p = subprocess.Popen(cmd , shell=True, stdout=subprocess.PIPE, stderr=subprocess.PIPE)\n",
    "#         out, err = p.communicate()\n",
    "#         print \"Return code: \", p.returncode\n",
    "#         print out.rstrip(), err.rstrip()\n",
    "\n",
    "#         p = subprocess.Popen(cmd,\n",
    "#              stdout=subprocess.PIPE,\n",
    "#              stderr=subprocess.PIPE,\n",
    "#              shell=True\n",
    "#              )\n",
    "    \n",
    "#         for line in p.stdout.readlines():\n",
    "#             print line,\n",
    "#         retval = p.wait()\n",
    "        \n",
    "#         for a, b, c in itertools.product( year1, month1, day1):\n",
    "\n",
    "#             print a\n",
    "#             print b\n",
    "#             print c\n",
    "\n",
    "#             get_map(minlon , minlat ,maxlon, maxlat,\n",
    "#                     '/data/home/' + user + '/',\n",
    "#                     sampling=100,\n",
    "#                 year=a, month=b, day=c,\n",
    "#                # year=int(sys.argv[1]), month=int(sys.argv[2]), day=int(sys.argv[3]),\n",
    "#                     tracknr=None,\n",
    "#                     tempfilter=True,\n",
    "#                     mask='Globcover',\n",
    "#                     masksnow=False,\n",
    "#                     overwrite=True)\n",
    "    \n",
    "button.on_click(on_button_clicked)\n",
    "# display\n",
    "widgets.VBox([button,outt])"
   ]
  },
  {
   "cell_type": "code",
   "execution_count": null,
   "metadata": {},
   "outputs": [],
   "source": [
    "# Results will be found in your Google Drive"
   ]
  },
  {
   "cell_type": "code",
   "execution_count": null,
   "metadata": {},
   "outputs": [],
   "source": []
  },
  {
   "cell_type": "code",
   "execution_count": null,
   "metadata": {},
   "outputs": [],
   "source": []
  },
  {
   "cell_type": "code",
   "execution_count": null,
   "metadata": {},
   "outputs": [],
   "source": []
  },
  {
   "cell_type": "code",
   "execution_count": null,
   "metadata": {},
   "outputs": [],
   "source": []
  },
  {
   "cell_type": "code",
   "execution_count": null,
   "metadata": {},
   "outputs": [],
   "source": []
  },
  {
   "cell_type": "code",
   "execution_count": null,
   "metadata": {},
   "outputs": [],
   "source": []
  },
  {
   "cell_type": "code",
   "execution_count": null,
   "metadata": {},
   "outputs": [],
   "source": []
  }
 ],
 "metadata": {
  "celltoolbar": "Raw Cell Format",
  "kernelspec": {
   "display_name": "env",
   "language": "python",
   "name": "env"
  },
  "language_info": {
   "codemirror_mode": {
    "name": "ipython",
    "version": 2
   },
   "file_extension": ".py",
   "mimetype": "text/x-python",
   "name": "python",
   "nbconvert_exporter": "python",
   "pygments_lexer": "ipython2",
   "version": "2.7.15+"
  }
 },
 "nbformat": 4,
 "nbformat_minor": 4
}
