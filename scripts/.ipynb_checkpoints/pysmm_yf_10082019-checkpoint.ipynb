{
 "cells": [
  {
   "cell_type": "markdown",
   "metadata": {},
   "source": [
    "# Soil moisture mapping module"
   ]
  },
  {
   "cell_type": "code",
   "execution_count": 1,
   "metadata": {},
   "outputs": [
    {
     "data": {
      "text/html": [
       "<script>\n",
       "code_show=true; \n",
       "function code_toggle() {\n",
       " if (code_show){\n",
       " $('div.input').hide();\n",
       " } else {\n",
       " $('div.input').show();\n",
       " }\n",
       " code_show = !code_show\n",
       "} \n",
       "$( document ).ready(code_toggle);\n",
       "</script>\n",
       "<form action=\"javascript:code_toggle()\"><input type=\"submit\" value=\"Click here to toggle on/off the raw code.\"></form>"
      ],
      "text/plain": [
       "<IPython.core.display.HTML object>"
      ]
     },
     "execution_count": 1,
     "metadata": {},
     "output_type": "execute_result"
    }
   ],
   "source": [
    "#set user libraries\n",
    "import ipywidgets as widgets\n",
    "from IPython.display import display, HTML, clear_output, Image\n",
    "from ipywidgets import HBox, Label\n",
    "import subprocess\n",
    "# import ipyleaflet\n",
    "\n",
    "import pysmm,os\n",
    "from pysmm.derive_SM import get_map\n",
    "import sys\n",
    "import ee\n",
    "import itertools\n",
    "# import folium\n",
    "# import numbers\n",
    "from IPython.core.display import HTML \n",
    "\n",
    "\n",
    "#from ee import EELayer, map_layers\n",
    "#from sepal.ee import radar_collection, radar_time_scan, radar_mosaic, radar_viz\n",
    "\n",
    "ee.Initialize()\n",
    "path = os.path.dirname(pysmm.__file__)\n",
    "\n",
    "HTML('''<script>\n",
    "code_show=true; \n",
    "function code_toggle() {\n",
    " if (code_show){\n",
    " $('div.input').hide();\n",
    " } else {\n",
    " $('div.input').show();\n",
    " }\n",
    " code_show = !code_show\n",
    "} \n",
    "$( document ).ready(code_toggle);\n",
    "</script>\n",
    "<form action=\"javascript:code_toggle()\"><input type=\"submit\" value=\"Click here to toggle on/off the raw code.\"></form>''')\n"
   ]
  },
  {
   "cell_type": "markdown",
   "metadata": {},
   "source": [
    "# Introduction"
   ]
  },
  {
   "cell_type": "code",
   "execution_count": 2,
   "metadata": {},
   "outputs": [
    {
     "name": "stdout",
     "output_type": "stream",
     "text": [
      "Welcome finegold! Run this application to create soil moisture maps from Sentinel 1 imagery.\n"
     ]
    }
   ],
   "source": [
    "#print path\n",
    "\n",
    "#print str(sys.argv)\n",
    "\n",
    "user = path.split(\"/\")[2]\n",
    "print \"Welcome \" +  user + \"!\" + \" Run this application to create soil moisture maps from Sentinel 1 imagery.\""
   ]
  },
  {
   "cell_type": "markdown",
   "metadata": {},
   "source": [
    "## Peatlands cover about 3% of the earth's land surface yet hold a huge amount of earth's terrestrial carbon"
   ]
  },
  {
   "cell_type": "markdown",
   "metadata": {},
   "source": [
    "![Peat extent](../docs/imgs/wetlands_international_peatlands_extent.png)\n",
    "![sds]<../docs/imgs/wetlands_international_peatlands_extent.png>\n",
    "[Peat extent]<https://www.dropbox.com/s/c7zgr4341sfbm4a/wetlands_international_peatlands_extent.png?dl=0 \"Peat extent and thickness map of Indonesia\">\n",
    "<img src=\"https://www.dropbox.com/s/c7zgr4341sfbm4a/wetlands_international_peatlands_extent.png\", width=\"20\", height=\"10\">\n",
    "\n",
    "<img src=\"../docs/imgs/wetlands_international_peatlands_extent.png\" height=\"height:50px\">\n",
    "<img src=\"https://www.dropbox.com/s/c7zgr4341sfbm4a/wetlands_international_peatlands_extent.png\" height=\"height:20px\" width=\"width:50px\">\n",
    "\n",
    "\n",
    "#### Peat extent and thickness map of Indonesia from the Wetlands International 2004 ([Minsany et al. 2019](../docs/background/minsany_etal_2019_digital_mapping_of_peatlands_critical_review.pdf))"
   ]
  },
  {
   "cell_type": "markdown",
   "metadata": {},
   "source": [
    "# Set user variables"
   ]
  },
  {
   "cell_type": "markdown",
   "metadata": {},
   "source": [
    "## Define the area of interest\n",
    "### Provide the link to a Google Earth Engine asset and define the column name and value to select"
   ]
  },
  {
   "cell_type": "code",
   "execution_count": 10,
   "metadata": {},
   "outputs": [
    {
     "data": {
      "application/vnd.jupyter.widget-view+json": {
       "model_id": "3d25ed9d9fbf41aaa39b704826240769",
       "version_major": 2,
       "version_minor": 0
      },
      "text/plain": [
       "SEJveChjaGlsZHJlbj0oTGFiZWwodmFsdWU9dSdHb29nbGUgRWFydGggRW5naW5lIGFzc2V0IElEOiAnKSwgVGV4dCh2YWx1ZT11J3VzZXJzL3llbGVuYWZpbmVnb2xkL2lkOTRfUEhVX0JPVU7igKY=\n"
      ]
     },
     "metadata": {},
     "output_type": "display_data"
    },
    {
     "data": {
      "application/vnd.jupyter.widget-view+json": {
       "model_id": "4d3a0351ee8a46269aac691c39fcc2e9",
       "version_major": 2,
       "version_minor": 0
      },
      "text/plain": [
       "SEJveChjaGlsZHJlbj0oTGFiZWwodmFsdWU9dSdDb2x1bW4gbmFtZTogJyksIFRleHQodmFsdWU9dSdPQkpFQ1RJRCcsIHBsYWNlaG9sZGVyPXUnY29sdW1uIG5hbWUgZnJvbSB0aGUgR0VFIGHigKY=\n"
      ]
     },
     "metadata": {},
     "output_type": "display_data"
    },
    {
     "data": {
      "application/vnd.jupyter.widget-view+json": {
       "model_id": "6c53327164ce4e1b838ce6236ac263df",
       "version_major": 2,
       "version_minor": 0
      },
      "text/plain": [
       "SEJveChjaGlsZHJlbj0oTGFiZWwodmFsdWU9dSdDb2x1bW4gdmFsdWU6ICcpLCBUZXh0KHZhbHVlPXUnOTQnLCBwbGFjZWhvbGRlcj11J2NvbHVtbiB2YWx1ZSBmcm9tIHRoZSBHRUUgYXNzZXTigKY=\n"
      ]
     },
     "metadata": {},
     "output_type": "display_data"
    }
   ],
   "source": [
    "aoi =  widgets.Text(\n",
    "    value='users/yelenafinegold/id94_PHU_BOUNDARY',\n",
    "    placeholder='Enter your asset ID here',\n",
    "#    description='Google Earth Engine asset ID:',\n",
    "    disabled=False\n",
    ")\n",
    "\n",
    "\n",
    "column_name =  widgets.Text(\n",
    "    value='OBJECTID',\n",
    "    placeholder='column name from the GEE asset',\n",
    "#    description='Column name:',\n",
    "    disabled=False\n",
    ")\n",
    "#display(column_name)\n",
    "\n",
    "column_value = widgets.Text(\n",
    "    value=\"94\",\n",
    "    placeholder='column value from the GEE asset',\n",
    "#    description='Column value:',\n",
    "    disabled=False\n",
    ")\n",
    "#display(column_value)\n",
    "ui1 = HBox([Label('Google Earth Engine asset ID: '),aoi])\n",
    "ui2 = HBox([Label('Column name: '),column_name])\n",
    "ui3 = HBox([Label('Column value: '),column_value])\n",
    "\n",
    "#ui = HBox([Label('Google Earth Engine asset ID: '),aoi],\n",
    "#      [Label('Column name: '),column_name],\n",
    "#      [Label('Column value: '),column_value])\n",
    "display(ui1,ui2,ui3)\n",
    "\n",
    "\n",
    "#print(aoi.result)\n",
    "# def f(a):\n",
    "#     print((a))\n",
    "\n",
    "# out = widgets.interactive_output(f, {'a': aoi})\n",
    "# display(out)\n",
    "# aoiv = aoi.value\n",
    "# print(aoiv)\n",
    "\n",
    "\n",
    "#aoi = 'users/yelenafinegold/aceh_askari'\n",
    "#column_name = 'tileID'\n",
    "#column_value = 61"
   ]
  },
  {
   "cell_type": "code",
   "execution_count": null,
   "metadata": {},
   "outputs": [],
   "source": [
    "print(aoi.value)\n",
    "\n",
    "studyArea = ee.FeatureCollection(aoi.value)\n",
    "studyAreag = studyArea.geometry()\n",
    "\n",
    "studyArea = studyArea.geometry().bounds().coordinates()\n",
    "# studyAreag =studyArea.geometry()\n",
    "coords = studyArea.get(0).getInfo()\n",
    "\n",
    "\n",
    "ll = coords[0]\n",
    "ur = coords[2]\n",
    "minlon = ll[0]\n",
    "minlat = ll[1]\n",
    "maxlon = ur[0]\n",
    "maxlat = ur[1]\n",
    "\n",
    "import cv2\n",
    "import math\n",
    "\n",
    "# img_shape = studyAreag.shape\n",
    "print(studyAreag)\n",
    "# tile_size = (256, 256)\n",
    "# offset = (256, 256)\n",
    "\n",
    "# for i in xrange(int(math.ceil(img_shape[0]/(offset[1] * 1.0)))):\n",
    "#     for j in xrange(int(math.ceil(img_shape[1]/(offset[0] * 1.0)))):\n",
    "#         cropped_img = img[offset[1]*i:min(offset[1]*i+tile_size[1], img_shape[0]), offset[0]*j:min(offset[0]*j+tile_size[0], img_shape[1])]\n",
    "#         # Debugging the tiles\n",
    "#         cv2.imwrite(\"debug_\" + str(i) + \"_\" + str(j) + \".png\", cropped_img)"
   ]
  },
  {
   "cell_type": "code",
   "execution_count": null,
   "metadata": {},
   "outputs": [],
   "source": [
    "# ## try to plot using folium\n",
    "# aoiv = aoi.value\n",
    "# print(aoiv)\n",
    "# studyArea = ee.FeatureCollection(aoiv)\n",
    "# print(studyArea)\n",
    "# Map.addLayer(ecoregions, {}, 'default display');\n",
    "# mosaic_layer = EELayer(\n",
    "#     image=studyArea,\n",
    "# #    viz_params=radar_viz.params('VV, VH, ratio_VV_VH'),\n",
    "#     center=True,\n",
    "#     name='Point-in-time mosaic'\n",
    "# )\n",
    "# map_layers([mosaic_layer])"
   ]
  },
  {
   "cell_type": "code",
   "execution_count": null,
   "metadata": {},
   "outputs": [],
   "source": [
    "# ## try to plot using leaflet\n",
    "# map1 = ipyleaflet.Map(zoom=1, layout={'height':'300px'})\n",
    "# tile_url = GetTileLayerUrl(aoiv.visualize(min=0, max=365, bands= ['is_FD'], palette=['black', 'white']))\n",
    "# map1.add_layer(ipyleaflet.TileLayer(url=tile_url))\n",
    "# map1"
   ]
  },
  {
   "cell_type": "code",
   "execution_count": null,
   "metadata": {},
   "outputs": [],
   "source": [
    "# # another try to plot the AOI\n",
    "# %matplotlib inline\n",
    "# %pylab inline\n",
    "# pylab.rcParams['figure.figsize'] = (13, 13)\n",
    "\n",
    "# # we need to convert our point to a shapefile\n",
    "# # vec.llPoint2shp(lat, lon, '{}/.aoiPoint.shp'.format(prjDir))\n",
    "# # aoi = '{}/.aoiPoint.shp'.format(prjDir)\n",
    "\n",
    "# # re-read output file into a GeoDataFrame for further steps\n",
    "# footprintGdf = refine.readS1Inventory(output)\n",
    "# footprintGdf = footprintGdf[footprintGdf.endposition == footprintGdf.endposition.max()]\n",
    "\n",
    "# print(' INFO: Latest Sentinel product'\n",
    "#       ' for Lat: {} and Lon: {}'\n",
    "#       ' found from {}'.format(lat, lon, footprintGdf.endposition.max()))\n",
    "\n",
    "# vec.plotInv(aoi, footprintGdf)"
   ]
  },
  {
   "cell_type": "code",
   "execution_count": 26,
   "metadata": {
    "scrolled": false
   },
   "outputs": [
    {
     "data": {
      "application/vnd.jupyter.widget-view+json": {
       "model_id": "fcb34359a0374c01bad6fbc7df98c059",
       "version_major": 2,
       "version_minor": 0
      },
      "text/plain": [
       "U2VsZWN0TXVsdGlwbGUoZGVzY3JpcHRpb249dSdZZWFyJywgaW5kZXg9KDAsIDEsIDIsIDMsIDQsIDUpLCBvcHRpb25zPSgyMDE0LCAyMDE1LCAyMDE2LCAyMDE3LCAyMDE4LCAyMDE5KSwgdmHigKY=\n"
      ]
     },
     "metadata": {},
     "output_type": "display_data"
    },
    {
     "data": {
      "application/vnd.jupyter.widget-view+json": {
       "model_id": "7a8b07257cac4a11af291abdd87729df",
       "version_major": 2,
       "version_minor": 0
      },
      "text/plain": [
       "U2VsZWN0TXVsdGlwbGUoZGVzY3JpcHRpb249dSdNb250aCcsIGluZGV4PSg1LCAxMSksIG9wdGlvbnM9KCgnSmFudWFyeScsIDEpLCAoJ0ZlYnJ1YXJ5JywgMiksICgnTWFyY2gnLCAzKSwgKCfigKY=\n"
      ]
     },
     "metadata": {},
     "output_type": "display_data"
    },
    {
     "data": {
      "application/vnd.jupyter.widget-view+json": {
       "model_id": "f8dd6bc6d4414971a76d915488e277dc",
       "version_major": 2,
       "version_minor": 0
      },
      "text/plain": [
       "U2VsZWN0KGRlc2NyaXB0aW9uPXUnRGF5Jywgb3B0aW9ucz0oMSwgMiwgMywgNCwgNSwgNiwgNywgOCwgOSwgMTAsIDExLCAxMiwgMTMsIDE0LCAxNSwgMTYsIDE3LCAxOCwgMTksIDIwLCAyMSzigKY=\n"
      ]
     },
     "metadata": {},
     "output_type": "display_data"
    }
   ],
   "source": [
    "# Modify the Year, Month, and Day parameters as desired\n",
    "year = widgets.SelectMultiple(\n",
    "    options=[2014,2015,2016,2017,2018,2019],\n",
    "    value=[2014,2015,2016,2017,2018,2019],\n",
    "    #rows=10,\n",
    "    description='Year',\n",
    "    disabled=False\n",
    ")\n",
    "\n",
    "display(year)\n",
    "\n",
    "month = widgets.SelectMultiple(\n",
    "    options=[('January',1),('February',2),('March',3),('April',4),('May',5),('June',6),('July',7),('August',8),('September',9),('October',10),('November',11),('December',12)],\n",
    "    value=[6,12],\n",
    "    description='Month',\n",
    "    disabled=False\n",
    ")\n",
    "\n",
    "display(month)\n",
    "\n",
    "day = widgets.Select(\n",
    "    options=range(1,32),\n",
    "    value=1,\n",
    "    description='Day',\n",
    "    disabled=False\n",
    ")\n",
    "\n",
    "display(day)\n",
    "\n"
   ]
  },
  {
   "cell_type": "code",
   "execution_count": null,
   "metadata": {},
   "outputs": [],
   "source": [
    "# Print variables to make sure paths are correct"
   ]
  },
  {
   "cell_type": "code",
   "execution_count": null,
   "metadata": {},
   "outputs": [],
   "source": [
    "# Run the PYSMM code for a specified AOI - will iterate over all combinations of Year / Month / Day sequentially."
   ]
  },
  {
   "cell_type": "code",
   "execution_count": 27,
   "metadata": {
    "scrolled": true
   },
   "outputs": [
    {
     "name": "stdout",
     "output_type": "stream",
     "text": [
      "users/yelenafinegold/id94_PHU_BOUNDARY\n",
      "OBJECTID\n",
      "94\n",
      "94\n",
      "<type 'int'>\n",
      "ee.List({\n",
      "  \"type\": \"Invocation\", \n",
      "  \"arguments\": {\n",
      "    \"geometry\": {\n",
      "      \"type\": \"Invocation\", \n",
      "      \"arguments\": {\n",
      "        \"geometry\": {\n",
      "          \"type\": \"Invocation\", \n",
      "          \"arguments\": {\n",
      "            \"collection\": {\n",
      "              \"type\": \"Invocation\", \n",
      "              \"arguments\": {\n",
      "                \"filter\": {\n",
      "                  \"type\": \"Invocation\", \n",
      "                  \"arguments\": {\n",
      "                    \"leftField\": \"OBJECTID\", \n",
      "                    \"rightValue\": 94\n",
      "                  }, \n",
      "                  \"functionName\": \"Filter.equals\"\n",
      "                }, \n",
      "                \"collection\": {\n",
      "                  \"type\": \"Invocation\", \n",
      "                  \"arguments\": {\n",
      "                    \"tableId\": \"users/yelenafinegold/id94_PHU_BOUNDARY\"\n",
      "                  }, \n",
      "                  \"functionName\": \"Collection.loadTable\"\n",
      "                }\n",
      "              }, \n",
      "              \"functionName\": \"Collection.filter\"\n",
      "            }\n",
      "          }, \n",
      "          \"functionName\": \"Collection.geometry\"\n",
      "        }\n",
      "      }, \n",
      "      \"functionName\": \"Geometry.bounds\"\n",
      "    }\n",
      "  }, \n",
      "  \"functionName\": \"Geometry.coordinates\"\n",
      "})\n",
      "102.4078976\n"
     ]
    }
   ],
   "source": [
    "# print(aoi.value)\n",
    "# print(column_name.value)\n",
    "# print(column_value.value)\n",
    "studyArea = ee.FeatureCollection(aoi.value)\n",
    "attribute = column_name.value\n",
    "attribute_value = int(column_value.value)\n",
    "# print(attribute_value)\n",
    "# print type(attribute_value)\n",
    "studyArea = studyArea.filterMetadata(attribute,'equals',attribute_value).geometry().bounds().coordinates()\n",
    "# studyArea = studyArea.geometry().bounds().coordinates()\n",
    "\n",
    "print(studyArea)\n",
    "coords = studyArea.get(0).getInfo()\n",
    "ll = coords[0]\n",
    "ur = coords[2]\n",
    "minlon = ll[0]\n",
    "minlat = ll[1]\n",
    "maxlon = ur[0]\n",
    "maxlat = ur[1]\n",
    "\n",
    "# print minlon "
   ]
  },
  {
   "cell_type": "code",
   "execution_count": null,
   "metadata": {
    "scrolled": false
   },
   "outputs": [],
   "source": [
    "# # print year.value\n",
    "# # if len(year.value) < 2:\n",
    "# #     year1= year.value[0]\n",
    "# # else:\n",
    "# #     year1= list(year.value)\n",
    "# # if len(month.value) < 2:\n",
    "# #     month1= month.value[0]\n",
    "# # else:\n",
    "# #     month1=list(month.value)\n",
    "# def as_list(x):\n",
    "#     if type(x) is list:\n",
    "#         return x\n",
    "#     else:\n",
    "#         return [x]\n",
    "    \n",
    "# day1= as_list(day.value)\n",
    "# year1= as_list(year.value)\n",
    "# month1= as_list(month.value)\n",
    "\n",
    "# for a, b, c in itertools.product( year1, month1, day1):\n",
    "\n",
    "# \tprint a\n",
    "# \tprint b\n",
    "# \tprint c\n",
    "  \n",
    "# \tget_map(minlon , minlat ,maxlon, maxlat,\n",
    "#         \t'/data/home/' + user + '/',\n",
    "#         \tsampling=100,\n",
    "# \t\tyear=a, month=b, day=c,\n",
    "#        # year=int(sys.argv[1]), month=int(sys.argv[2]), day=int(sys.argv[3]),\n",
    "#         \ttracknr=None,\n",
    "#         \ttempfilter=True,\n",
    "#         \tmask='Globcover',\n",
    "#         \tmasksnow=False,\n",
    "#         \toverwrite=True)\n"
   ]
  },
  {
   "cell_type": "code",
   "execution_count": 28,
   "metadata": {
    "scrolled": true
   },
   "outputs": [
    {
     "data": {
      "application/vnd.jupyter.widget-view+json": {
       "model_id": "99c7eec0218a4ab4bf0079b56d12bbcc",
       "version_major": 2,
       "version_minor": 0
      },
      "text/plain": [
       "VBox(children=(Button(description=u'Run SMM', style=ButtonStyle()), Output()))"
      ]
     },
     "metadata": {},
     "output_type": "display_data"
    }
   ],
   "source": [
    "button = widgets.Button(description='Run SMM')\n",
    "# button, output, function and linkage\n",
    "outt = widgets.Output()\n",
    "\n",
    "def on_button_clicked(b):\n",
    "    with outt:\n",
    "        clear_output()\n",
    "        print('Processing and downloading soil moisture maps. This takes a long time')\n",
    "        def format_date(x):\n",
    "            if type(x) is int:\n",
    "                return [x]\n",
    "            elif len(x) < 2:\n",
    "                return [x[0]]\n",
    "            else:\n",
    "                return list(x)\n",
    "\n",
    "        day1= format_date(day.value)\n",
    "        year1= format_date(year.value)\n",
    "        month1= format_date(month.value)\n",
    "\n",
    "        for a, b, c in itertools.product( year1, month1, day1):\n",
    "\n",
    "            print a\n",
    "            print b\n",
    "            print c\n",
    "\n",
    "            get_map(minlon , minlat ,maxlon, maxlat,\n",
    "                    '/data/home/' + user + '/',\n",
    "                    sampling=100,\n",
    "                year=a, month=b, day=c,\n",
    "               # year=int(sys.argv[1]), month=int(sys.argv[2]), day=int(sys.argv[3]),\n",
    "                    tracknr=None,\n",
    "                    tempfilter=True,\n",
    "                    mask='Globcover',\n",
    "                    masksnow=False,\n",
    "                    overwrite=True)\n",
    "        \n",
    "button.on_click(on_button_clicked)\n",
    "# display\n",
    "widgets.VBox([button,outt])"
   ]
  },
  {
   "cell_type": "code",
   "execution_count": null,
   "metadata": {},
   "outputs": [],
   "source": [
    "# Results will be found in your Google Drive"
   ]
  },
  {
   "cell_type": "code",
   "execution_count": null,
   "metadata": {},
   "outputs": [],
   "source": []
  }
 ],
 "metadata": {
  "celltoolbar": "Raw Cell Format",
  "kernelspec": {
   "display_name": "env",
   "language": "python",
   "name": "env"
  },
  "language_info": {
   "codemirror_mode": {
    "name": "ipython",
    "version": 2
   },
   "file_extension": ".py",
   "mimetype": "text/x-python",
   "name": "python",
   "nbconvert_exporter": "python",
   "pygments_lexer": "ipython2",
   "version": "2.7.15+"
  }
 },
 "nbformat": 4,
 "nbformat_minor": 4
}
