{
 "cells": [
  {
   "cell_type": "markdown",
   "metadata": {},
   "source": [
    "# Import Python modules to run PYSMM"
   ]
  },
  {
   "cell_type": "code",
   "execution_count": 3,
   "metadata": {},
   "outputs": [],
   "source": [
    "import pysmm,os\n",
    "from pysmm.derive_SM import get_map\n",
    "import sys\n",
    "import ee\n",
    "import itertools\n",
    "\n",
    "ee.Initialize()\n",
    "path = os.path.dirname(pysmm.__file__)"
   ]
  },
  {
   "cell_type": "markdown",
   "metadata": {},
   "source": [
    "# Print variables to make sure paths are correct"
   ]
  },
  {
   "cell_type": "code",
   "execution_count": 8,
   "metadata": {},
   "outputs": [
    {
     "name": "stdout",
     "output_type": "stream",
     "text": [
      "You are dannunzio\n"
     ]
    }
   ],
   "source": [
    "#print path\n",
    "\n",
    "#print str(sys.argv)\n",
    "\n",
    "user = path.split(\"/\")[2]\n",
    "print \"You are \" +  user"
   ]
  },
  {
   "cell_type": "markdown",
   "metadata": {},
   "source": [
    "# Modify the Year, Month, and Day parameters as desired"
   ]
  },
  {
   "cell_type": "code",
   "execution_count": null,
   "metadata": {},
   "outputs": [],
   "source": [
    "year = [2014,2015,2016,2017,2018,2019]\n",
    "month = [6,12]\n",
    "day = [1]"
   ]
  },
  {
   "cell_type": "markdown",
   "metadata": {},
   "source": [
    "# Run the PYSMM code for a specified Lat/Lon box - will iterate over all combinations of Year / Month / Day sequentially."
   ]
  },
  {
   "cell_type": "code",
   "execution_count": null,
   "metadata": {},
   "outputs": [],
   "source": [
    "tileID = 1\n",
    "studyArea = ee.FeatureCollection('users/africagis/palembang_tiles')\n",
    "studyArea = studyArea.filterMetadata('tileID','equals',tileID).geometry().coordinates()\n",
    "coords = studyArea.get(0).getInfo()\n",
    "\n",
    "ll = coords[0]\n",
    "ur = coords[2]\n",
    "minlon = ll[0]\n",
    "minlat = ll[1]\n",
    "maxlon = ur[0]\n",
    "maxlat = ur[1]\n",
    "\n",
    "print minlon\n"
   ]
  },
  {
   "cell_type": "code",
   "execution_count": null,
   "metadata": {},
   "outputs": [],
   "source": [
    "for a, b, c in itertools.product(year, month, day):\n",
    "\tprint a\n",
    "\tprint b\n",
    "\tprint c\n",
    "    \n",
    "\tprint minlon\n",
    "\tprint minlat\n",
    "\tprint maxlon\n",
    "\tprint maxlat\n",
    "  \n",
    "\tget_map(minlon , minlat ,maxlon, maxlat,\n",
    "            ##### MODIFY THIS PATH TO BE YOUR SEPAL USERNAME\n",
    "        \t'/data/home/dannunzio/',\n",
    "        \tsampling=100,\n",
    "\t\tyear=a, month=b, day=c,\n",
    "       # year=int(sys.argv[1]), month=int(sys.argv[2]), day=int(sys.argv[3]),\n",
    "        \ttracknr=None,\n",
    "        \ttempfilter=True,\n",
    "        \tmask='Globcover',\n",
    "        \tmasksnow=False,\n",
    "        \toverwrite=True)\n"
   ]
  },
  {
   "cell_type": "markdown",
   "metadata": {},
   "source": [
    "# Results will be found in your Google Drive"
   ]
  }
 ],
 "metadata": {
  "kernelspec": {
   "display_name": "env",
   "language": "python",
   "name": "env"
  },
  "language_info": {
   "codemirror_mode": {
    "name": "ipython",
    "version": 2
   },
   "file_extension": ".py",
   "mimetype": "text/x-python",
   "name": "python",
   "nbconvert_exporter": "python",
   "pygments_lexer": "ipython2",
   "version": "2.7.15rc1"
  }
 },
 "nbformat": 4,
 "nbformat_minor": 2
}
