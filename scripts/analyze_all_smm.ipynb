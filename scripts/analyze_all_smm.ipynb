{
 "cells": [
  {
   "cell_type": "markdown",
   "metadata": {},
   "source": [
    "## Working notebook for soil moisture map exploration\n",
    "### This notebook analyzes the soil moisture map data over time for the entire area of interest (107 PHU)\n",
    "\n",
    "This tool performs a time series trend analysis of the soil moisture maps. A linear model is applied to the time series of data and results in 2 outputs. The first output is the slope of the linear model. The slope indicates if the trend in soil moisture is negative or positive. These trends might be related to peatland management practices. The second output of the linear regression model is the p-value which indicates the significance of the model. The p-values range between 0 and 1. The closer the p-value output is to 0, the higher the model significance. If the p-value is high (closer to 0), the higher the probability that there is no linear relationship in the time series of soil moisture data. \n",
    "\n",
    "After the processing completes, download the outputs and check them in a GIS environment such as QGIS or ArcGIS. "
   ]
  },
  {
   "cell_type": "code",
   "execution_count": null,
   "metadata": {
    "scrolled": false
   },
   "outputs": [],
   "source": [
    "# # INSTALL LIBRARY TO RUN R AND PYTHON AND BASH IN THE SAME NOTEBOOK\n",
    "# !pip install rpy2 --user -q"
   ]
  },
  {
   "cell_type": "code",
   "execution_count": null,
   "metadata": {},
   "outputs": [],
   "source": [
    "# ## ENABLE USE OF R AND PYTHON IN THE SAME NOTEBOOK\n",
    "# %load_ext rpy2.ipython\n"
   ]
  },
  {
   "cell_type": "code",
   "execution_count": null,
   "metadata": {
    "scrolled": true
   },
   "outputs": [],
   "source": [
    "## CREATE FOLDER TO STORE SMM DATABASE\n",
    "!mkdir -p ~/ws_idn_20190819/data/smm_phu/all_smm\n",
    "## DOWNLOAD THE TIME SERIES OF SOIL MOISTURE MAPS\n",
    "\n",
    "\n",
    "!wget -O ~/ws_idn_20190819/data/smm_phu/all_smm/all_phu_smm.tif https://www.dropbox.com/s/pe1fr05to5vuy0c/all_phu_smm.tif\n",
    "!wget -O ~/ws_idn_20190819/data/smm_phu/all_smm/all_phu_smm.csv https://www.dropbox.com/s/hcbnvrjo6ys1ymi/all_phu_smm.csv\n",
    "        "
   ]
  },
  {
   "cell_type": "code",
   "execution_count": null,
   "metadata": {},
   "outputs": [],
   "source": [
    "## DOWNLOAD THE TIME SERIES OF SOIL MOISTURE MAPS RESULTS\n",
    "\n",
    "!wget -O ~/ws_idn_20190819/data/smm_phu/all_smm/all_phu_stdv.tif https://www.dropbox.com/s/1b1r8yg1tztbtlx/all_phu_stdv.tif\n",
    "!wget -O ~/ws_idn_20190819/data/smm_phu/all_smm/all_phu_slope.tif https://www.dropbox.com/s/mefvhhaiuo0pkzf/all_phu_slope.tif\n",
    "\n",
    "!wget -O ~/ws_idn_20190819/data/smm_phu/all_smm/all_phu_pvalue.tif https://www.dropbox.com/s/gx4ownwoadrrpjb/all_phu_pvalue.tif\n",
    "!wget -O ~/ws_idn_20190819/data/smm_phu/all_smm/all_phu_mean.tif https://www.dropbox.com/s/15fc28s3cukewvk/all_phu_mean.tif"
   ]
  },
  {
   "cell_type": "code",
   "execution_count": null,
   "metadata": {},
   "outputs": [],
   "source": [
    "# %%R\n",
    "# ## LOAD THE PARAMETERS\n",
    "# source('~/ws_idn_20190819/scripts/s0_parameters.R')\n",
    "# library(ggplot2)\n",
    "# library(dplyr)\n",
    "# library(hrbrthemes)\n",
    "# library(leaflet)"
   ]
  },
  {
   "cell_type": "code",
   "execution_count": null,
   "metadata": {},
   "outputs": [],
   "source": [
    "# %%R\n",
    "# ## READ THE SOIL MOISTURE MAP FOR ALL THE PHUS\n",
    "# smm_dir <- '~/ws_idn_20190819/data/smm_phu/all_smm/'\n",
    "# all.smm.ras <-  brick(paste0(smm_dir,'all_phu_smm.tif'))\n",
    "# all.smm.dat <-  read.csv(paste0(smm_dir,'all_phu_smm.csv'))\n",
    "# ts.date <- as.Date(unlist(all.smm.dat[,2]))\n",
    "\n",
    "# # plot(all.smm.ras[[99]])\n",
    "# # head(all.smm.dat[,1:3])\n",
    "# head(ts.date)"
   ]
  },
  {
   "cell_type": "code",
   "execution_count": null,
   "metadata": {
    "scrolled": true
   },
   "outputs": [],
   "source": [
    "# !Rscript /home/finegold/ws_idn_20190819_archive/scripts/smm_postprocessing/linear_model_smm_20191128.R\n"
   ]
  },
  {
   "cell_type": "code",
   "execution_count": null,
   "metadata": {},
   "outputs": [],
   "source": [
    "# %%R\n",
    "\n",
    "# NAvalue(all.smm.ras) <- 0\n",
    "\n",
    "# ## calculate the slope\n",
    "# fun_slope <- function(y) { \n",
    "# if(all(is.na(y))) {\n",
    "#   NA\n",
    "# } else {\n",
    "#   m = lm(y ~ ts.date, na.action=na.omit); summary(m)$coefficients[2] \n",
    "# }\n",
    "# }\n",
    "\n",
    "# ## calculate the p-value\n",
    "# fun_pvalue <- function(y) { \n",
    "# if(all(is.na(y))) {\n",
    "#   NA\n",
    "# } else {\n",
    "#   m = lm(y ~ ts.date, na.action=na.omit); summary(m)$coefficients[8] \n",
    "# }\n",
    "# }\n",
    "# ## calculate the mean\n",
    "# fun_mean <- function(x) calc(x, fun = mean, na.rm = T)\n",
    "# ## calculate the standard deviation\n",
    "# fun_stdv <- function(x) calc(x, fun = sd, na.rm = T)\n",
    "\n",
    "# # beginCluster()\n",
    "# # slope <- clusterR(all.smm.ras, calc, args=list(fun=fun_slope))\n",
    "# # pvalue <- clusterR(all.smm.ras, calc, args=list(fun=fun_pvalue))\n",
    "# # mean <- clusterR(all.smm.ras, fun_mean)\n",
    "# # stdv <- clusterR(all.smm.ras, fun_stdv)\n",
    "# # endCluster()\n",
    "\n",
    "# slope <-  calc(all.smm.ras, fun_slope)\n",
    "# pvalue <- calc(all.smm.ras,fun_pvalue)\n",
    "# mean <-   calc(all.smm.ras, fun = mean, na.rm = T)\n",
    "# stdv <-   calc(all.smm.ras, fun = sd, na.rm = T)\n",
    "\n",
    "# writeRaster(slope,paste0(smm_dir,\"all_smm_slope.tif\"),overwrite=T)\n",
    "# print('Completed linear regression slope map')\n",
    "# writeRaster(pvalue,paste0(smm_dir,\"all_smm_pvalue.tif\"),overwrite=T)\n",
    "# print('Completed linear regression signifance map')\n",
    "# writeRaster(mean,paste0(smm_dir,\"all_smm_mean.tif\"),overwrite=T)\n",
    "# print('Completed mean map')\n",
    "# writeRaster(stdv,paste0(smm_dir,\"all_smm_stdv.tif\"),overwrite=T)\n",
    "# print('Completed standard deviation map')\n"
   ]
  }
 ],
 "metadata": {
  "kernelspec": {
   "display_name": "Python 3",
   "language": "python",
   "name": "python3"
  },
  "language_info": {
   "codemirror_mode": {
    "name": "ipython",
    "version": 3
   },
   "file_extension": ".py",
   "mimetype": "text/x-python",
   "name": "python",
   "nbconvert_exporter": "python",
   "pygments_lexer": "ipython3",
   "version": "3.6.8"
  }
 },
 "nbformat": 4,
 "nbformat_minor": 2
}
